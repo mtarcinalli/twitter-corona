{
 "cells": [
  {
   "cell_type": "code",
   "execution_count": 18,
   "metadata": {},
   "outputs": [],
   "source": [
    "from tweepy import OAuthHandler\n",
    "from tweepy import API\n",
    "from tweepy import Cursor\n",
    "from datetime import datetime, date, time, timedelta\n",
    "from collections import Counter\n",
    "import sys"
   ]
  },
  {
   "cell_type": "code",
   "execution_count": 11,
   "metadata": {},
   "outputs": [],
   "source": [
    "%run ../aux/twitter.py"
   ]
  },
  {
   "cell_type": "code",
   "execution_count": 16,
   "metadata": {},
   "outputs": [
    {
     "ename": "NameError",
     "evalue": "name 'oauth' is not defined",
     "output_type": "error",
     "traceback": [
      "\u001b[0;31m---------------------------------------------------------------------------\u001b[0m",
      "\u001b[0;31mNameError\u001b[0m                                 Traceback (most recent call last)",
      "\u001b[0;32m<ipython-input-16-0851f5352a96>\u001b[0m in \u001b[0;36m<module>\u001b[0;34m()\u001b[0m\n\u001b[0;32m----> 1\u001b[0;31m \u001b[0mapi\u001b[0m \u001b[0;34m=\u001b[0m \u001b[0mTwitter\u001b[0m\u001b[0;34m(\u001b[0m\u001b[0mauth\u001b[0m\u001b[0;34m=\u001b[0m\u001b[0moauth\u001b[0m\u001b[0;34m(\u001b[0m\u001b[0mconsumerSecret\u001b[0m\u001b[0;34m,\u001b[0m \u001b[0mconsumerKey\u001b[0m\u001b[0;34m,\u001b[0m \u001b[0maccessTokenSecret\u001b[0m\u001b[0;34m,\u001b[0m \u001b[0maccessTokenKey\u001b[0m\u001b[0;34m)\u001b[0m\u001b[0;34m)\u001b[0m\u001b[0;34m\u001b[0m\u001b[0;34m\u001b[0m\u001b[0m\n\u001b[0m",
      "\u001b[0;31mNameError\u001b[0m: name 'oauth' is not defined"
     ]
    }
   ],
   "source": [
    "api = Twitter(auth=oauth(consumerSecret, consumerKey, accessTokenSecret, accessTokenKey))"
   ]
  },
  {
   "cell_type": "code",
   "execution_count": 19,
   "metadata": {},
   "outputs": [],
   "source": [
    "auth = OAuthHandler(consumerKey, consumerSecret)\n",
    "auth.set_access_token(accessTokenKey, accessTokenSecret)\n",
    "auth_api = API(auth)"
   ]
  },
  {
   "cell_type": "code",
   "execution_count": 28,
   "metadata": {},
   "outputs": [],
   "source": [
    "account_list = ['1001631735082311682']\n",
    "#,2020-03-01,pt,1"
   ]
  },
  {
   "cell_type": "code",
   "execution_count": 29,
   "metadata": {},
   "outputs": [
    {
     "name": "stdout",
     "output_type": "stream",
     "text": [
      "Getting data for 1001631735082311682\n",
      "name: Bea ✨\n",
      "screen_name: BiaBrisolla\n",
      "description: 🌴013 - SÃO VICENTE MAMAE DA MIRELLA 👼❤\n",
      "statuses_count: 3417\n",
      "friends_count: 553\n",
      "followers_count: 584\n"
     ]
    }
   ],
   "source": [
    "for target in account_list:\n",
    "    print(\"Getting data for \" + target)\n",
    "    item = auth_api.get_user(target)\n",
    "    print(\"name: \" + item.name)\n",
    "    print(\"screen_name: \" + item.screen_name)\n",
    "    print(\"description: \" + item.description)\n",
    "    print(\"statuses_count: \" + str(item.statuses_count))\n",
    "    print(\"friends_count: \" + str(item.friends_count))\n",
    "    print(\"followers_count: \" + str(item.followers_count))"
   ]
  },
  {
   "cell_type": "code",
   "execution_count": 30,
   "metadata": {},
   "outputs": [
    {
     "name": "stdout",
     "output_type": "stream",
     "text": [
      "Account age (in days): 685\n",
      "Average tweets per day: 4.99\n"
     ]
    }
   ],
   "source": [
    "tweets = item.statuses_count\n",
    "account_created_date = item.created_at\n",
    "delta = datetime.utcnow() - account_created_date\n",
    "account_age_days = delta.days\n",
    "print(\"Account age (in days): \" + str(account_age_days))\n",
    "if account_age_days > 0:\n",
    "    print(\"Average tweets per day: \" + \"%.2f\"%(float(tweets)/float(account_age_days)))"
   ]
  },
  {
   "cell_type": "code",
   "execution_count": 32,
   "metadata": {},
   "outputs": [],
   "source": [
    "hashtags = []\n",
    "mentions = []\n",
    "tweet_count = 0\n",
    "end_date = datetime.utcnow() - timedelta(days=30)\n",
    "for status in Cursor(auth_api.user_timeline, id=target).items():\n",
    "    #print(status)\n",
    "    #print()\n",
    "    tweet_count += 1\n",
    "    if hasattr(status, \"entities\"):\n",
    "        entities = status.entities\n",
    "        if \"hashtags\" in entities:\n",
    "            for ent in entities[\"hashtags\"]:\n",
    "                if ent is not None:\n",
    "                    if \"text\" in ent:\n",
    "                        hashtag = ent[\"text\"]\n",
    "                        if hashtag is not None:\n",
    "                            hashtags.append(hashtag)\n",
    "        if \"user_mentions\" in entities:\n",
    "            for ent in entities[\"user_mentions\"]:\n",
    "                if ent is not None:\n",
    "                    if \"screen_name\" in ent:\n",
    "                        name = ent[\"screen_name\"]\n",
    "                        if name is not None:\n",
    "                            mentions.append(name)\n",
    "    if status.created_at < end_date:\n",
    "        break"
   ]
  },
  {
   "cell_type": "code",
   "execution_count": 34,
   "metadata": {},
   "outputs": [
    {
     "name": "stdout",
     "output_type": "stream",
     "text": [
      "Most mentioned Twitter users:\n",
      "LalaOliveeiras2\t3\n",
      "NorbertoGrobian\t2\n",
      "drivargas27\t1\n",
      "viapfr\t1\n",
      "YuriChagas13\t1\n",
      "Kaakau_Cardoso\t1\n",
      "h3yass_\t1\n",
      "nathy_lourees\t1\n",
      "Gonzales0308\t1\n",
      "kaay_cardosoo\t1\n",
      "Most used hashtags:\n",
      "\n",
      "All done. Processed 35 tweets.\n",
      "\n"
     ]
    }
   ],
   "source": [
    "print\n",
    "print(\"Most mentioned Twitter users:\")\n",
    "for item, count in Counter(mentions).most_common(10):\n",
    "    print(item + \"\\t\" + str(count))\n",
    "\n",
    "print\n",
    "print(\"Most used hashtags:\")\n",
    "for item, count in Counter(hashtags).most_common(10):\n",
    "    print(item + \"\\t\" + str(count))\n",
    "\n",
    "print()\n",
    "print(\"All done. Processed \" + str(tweet_count) + \" tweets.\")\n",
    "print()"
   ]
  },
  {
   "cell_type": "code",
   "execution_count": null,
   "metadata": {},
   "outputs": [],
   "source": []
  }
 ],
 "metadata": {
  "kernelspec": {
   "display_name": "Python 3",
   "language": "python",
   "name": "python3"
  },
  "language_info": {
   "codemirror_mode": {
    "name": "ipython",
    "version": 3
   },
   "file_extension": ".py",
   "mimetype": "text/x-python",
   "name": "python",
   "nbconvert_exporter": "python",
   "pygments_lexer": "ipython3",
   "version": "3.7.3"
  }
 },
 "nbformat": 4,
 "nbformat_minor": 4
}
