{
 "cells": [
  {
   "cell_type": "code",
   "execution_count": 1,
   "metadata": {},
   "outputs": [
    {
     "name": "stderr",
     "output_type": "stream",
     "text": [
      "Loading required package: DBI\n",
      "\n",
      "Loading required package: NLP\n",
      "\n",
      "\n",
      "Attaching package: ‘ggplot2’\n",
      "\n",
      "\n",
      "The following object is masked from ‘package:NLP’:\n",
      "\n",
      "    annotate\n",
      "\n",
      "\n",
      "\n",
      "Attaching package: ‘dplyr’\n",
      "\n",
      "\n",
      "The following objects are masked from ‘package:twitteR’:\n",
      "\n",
      "    id, location\n",
      "\n",
      "\n",
      "The following objects are masked from ‘package:stats’:\n",
      "\n",
      "    filter, lag\n",
      "\n",
      "\n",
      "The following objects are masked from ‘package:base’:\n",
      "\n",
      "    intersect, setdiff, setequal, union\n",
      "\n",
      "\n",
      "\n",
      "Attaching package: ‘scales’\n",
      "\n",
      "\n",
      "The following object is masked from ‘package:syuzhet’:\n",
      "\n",
      "    rescale\n",
      "\n",
      "\n"
     ]
    }
   ],
   "source": [
    "library(RPostgreSQL)\n",
    "source(\"../aux/keys.R\")\n",
    "\n",
    "library(syuzhet)\n",
    "library(tm)\n",
    "library(RColorBrewer)\n",
    "library(wordcloud)\n",
    "library(twitteR)\n",
    "library(topicmodels)\n",
    "library(ggplot2)\n",
    "library(dplyr)\n",
    "library(reshape2)\n",
    "library(scales)"
   ]
  },
  {
   "cell_type": "code",
   "execution_count": 2,
   "metadata": {},
   "outputs": [],
   "source": [
    "# PostgreSQL\n",
    "drv <- dbDriver(\"PostgreSQL\")\n",
    "con <- dbConnect(drv, dbname = db_name,\n",
    "                 host = db_server, port = db_port,\n",
    "                 user = db_user, password = db_password)"
   ]
  },
  {
   "cell_type": "code",
   "execution_count": null,
   "metadata": {},
   "outputs": [],
   "source": []
  },
  {
   "cell_type": "markdown",
   "metadata": {},
   "source": [
    "(total - users - bots) fr and pt\n",
    "tweets and retweets\n",
    "\n",
    "Date: '2020-03-20' and '2020-04-09' \n",
    "222 total pt\n",
    "223 total fr"
   ]
  },
  {
   "cell_type": "code",
   "execution_count": 5,
   "metadata": {},
   "outputs": [],
   "source": [
    "# tweets pt\n",
    "cmd = paste(\"select \n",
    "    datatweet || ' ' || horatweet || ' UTC' as created, \n",
    "    text as tweet\n",
    "    FROM tweet t \n",
    "    INNER JOIN amostratweet am ON am.codtweet = t.codtweet \n",
    "    WHERE am.codamostra = 222\")\n",
    "tweets_pt <- dbGetQuery(con, cmd)\n",
    "saveRDS(tweets_pt, \"data/tweets_pt.rds\")"
   ]
  },
  {
   "cell_type": "code",
   "execution_count": null,
   "metadata": {},
   "outputs": [],
   "source": [
    "# tweets users pt\n",
    "cmd = paste(\"select \n",
    "    datatweet || ' ' || horatweet || ' UTC' as created, \n",
    "    text as tweet\n",
    "    FROM tweet t \n",
    "    INNER JOIN amostratweet am ON am.codtweet = t.codtweet \n",
    "    WHERE am.codamostra = 224\")\n",
    "tweets_pt <- dbGetQuery(con, cmd)\n",
    "saveRDS(tweets_pt, \"data/tweets_users_pt.rds\")"
   ]
  },
  {
   "cell_type": "code",
   "execution_count": null,
   "metadata": {},
   "outputs": [],
   "source": [
    "# tweets bots pt\n",
    "cmd = paste(\"select \n",
    "    datatweet || ' ' || horatweet || ' UTC' as created, \n",
    "    text as tweet\n",
    "    FROM tweet t \n",
    "    INNER JOIN amostratweet am ON am.codtweet = t.codtweet \n",
    "    WHERE am.codamostra = 226\")\n",
    "tweets_pt <- dbGetQuery(con, cmd)\n",
    "saveRDS(tweets_pt, \"data/tweets_bots_pt.rds\")"
   ]
  },
  {
   "cell_type": "code",
   "execution_count": null,
   "metadata": {},
   "outputs": [],
   "source": []
  },
  {
   "cell_type": "code",
   "execution_count": 6,
   "metadata": {},
   "outputs": [],
   "source": [
    "# tweets fr\n",
    "cmd = paste(\"select \n",
    "    datatweet || ' ' || horatweet || ' UTC' as created, \n",
    "    text as tweet\n",
    "    FROM tweet t \n",
    "    INNER JOIN amostratweet am ON am.codtweet = t.codtweet \n",
    "    WHERE am.codamostra = 223\")\n",
    "tweets_fr <- dbGetQuery(con, cmd)\n",
    "saveRDS(tweets_fr, \"data/tweets_fr.rds\")"
   ]
  },
  {
   "cell_type": "code",
   "execution_count": null,
   "metadata": {},
   "outputs": [],
   "source": [
    "# tweets users fr\n",
    "cmd = paste(\"select \n",
    "    datatweet || ' ' || horatweet || ' UTC' as created, \n",
    "    text as tweet\n",
    "    FROM tweet t \n",
    "    INNER JOIN amostratweet am ON am.codtweet = t.codtweet \n",
    "    WHERE am.codamostra = 225\")\n",
    "tweets_pt <- dbGetQuery(con, cmd)\n",
    "saveRDS(tweets_pt, \"data/tweets_users_fr.rds\")"
   ]
  },
  {
   "cell_type": "code",
   "execution_count": null,
   "metadata": {},
   "outputs": [],
   "source": [
    "# tweets bots pt\n",
    "cmd = paste(\"select \n",
    "    datatweet || ' ' || horatweet || ' UTC' as created, \n",
    "    text as tweet\n",
    "    FROM tweet t \n",
    "    INNER JOIN amostratweet am ON am.codtweet = t.codtweet \n",
    "    WHERE am.codamostra = 227\")\n",
    "tweets_pt <- dbGetQuery(con, cmd)\n",
    "saveRDS(tweets_pt, \"data/tweets_bots_fr.rds\")"
   ]
  },
  {
   "cell_type": "code",
   "execution_count": null,
   "metadata": {},
   "outputs": [],
   "source": []
  },
  {
   "cell_type": "code",
   "execution_count": null,
   "metadata": {},
   "outputs": [],
   "source": []
  },
  {
   "cell_type": "code",
   "execution_count": 19,
   "metadata": {},
   "outputs": [],
   "source": [
    "# retweets pt\n",
    "cmd = paste(\"select \n",
    "    datatweet || ' ' || horatweet || ' UTC' as created, \n",
    "    text as tweet\n",
    "    FROM tweet t \n",
    "    INNER JOIN amostratweet am ON am.codtweet = t.codtweet \n",
    "    WHERE lower(t.text) like 'rt%' AND am.codamostra = 222\")\n",
    "retweets_pt <- dbGetQuery(con, cmd)\n",
    "saveRDS(retweets_pt, \"data/retweets_pt.rds\")"
   ]
  },
  {
   "cell_type": "code",
   "execution_count": 20,
   "metadata": {},
   "outputs": [],
   "source": [
    "# retweets fr\n",
    "cmd = paste(\"select \n",
    "    datatweet || ' ' || horatweet || ' UTC' as created, \n",
    "    text as tweet\n",
    "    FROM tweet t \n",
    "    INNER JOIN amostratweet am ON am.codtweet = t.codtweet \n",
    "    WHERE lower(t.text) like 'rt%' AND am.codamostra = 223\")\n",
    "retweets_fr <- dbGetQuery(con, cmd)\n",
    "saveRDS(retweets_fr, \"data/retweets_fr.rds\")"
   ]
  },
  {
   "cell_type": "code",
   "execution_count": 21,
   "metadata": {},
   "outputs": [],
   "source": [
    "# only tweets pt\n",
    "cmd = paste(\"select \n",
    "    datatweet || ' ' || horatweet || ' UTC' as created, \n",
    "    text as tweet\n",
    "    FROM tweet t \n",
    "    INNER JOIN amostratweet am ON am.codtweet = t.codtweet \n",
    "    WHERE lower(t.text) not like 'rt%' AND am.codamostra = 222\")\n",
    "only_tweets_pt <- dbGetQuery(con, cmd)\n",
    "saveRDS(only_tweets_pt, \"data/only_tweets_pt.rds\")"
   ]
  },
  {
   "cell_type": "code",
   "execution_count": 22,
   "metadata": {},
   "outputs": [],
   "source": [
    "# only tweets fr\n",
    "cmd = paste(\"select \n",
    "    datatweet || ' ' || horatweet || ' UTC' as created, \n",
    "    text as tweet\n",
    "    FROM tweet t \n",
    "    INNER JOIN amostratweet am ON am.codtweet = t.codtweet \n",
    "    WHERE lower(t.text) not like 'rt%' AND am.codamostra = 223\")\n",
    "only_tweets_fr <- dbGetQuery(con, cmd)\n",
    "saveRDS(only_tweets_fr, \"data/only_tweets_fr.rds\")"
   ]
  },
  {
   "cell_type": "code",
   "execution_count": 7,
   "metadata": {},
   "outputs": [],
   "source": [
    "# portuguese tweets\n",
    "tweets_pt <- readRDS(\"data/tweets_pt.rds\")\n",
    "tweets_users_pt <- readRDS(\"data/tweets_users_pt.rds\")\n",
    "tweets_bots_pt <- readRDS(\"data/tweets_bots_pt.rds\")\n",
    "# french tweets\n",
    "tweets_fr <- readRDS(\"data/tweets_fr.rds\")\n",
    "tweets_users_fr <- readRDS(\"data/tweets_users_fr.rds\")\n",
    "tweets_bots_fr <- readRDS(\"data/tweets_bots_fr.rds\")"
   ]
  },
  {
   "cell_type": "markdown",
   "metadata": {},
   "source": [
    "## Sentiments"
   ]
  },
  {
   "cell_type": "code",
   "execution_count": 9,
   "metadata": {},
   "outputs": [],
   "source": [
    "sentimentos <- function (tweets, lang) {\n",
    "    sentiments <- get_nrc_sentiment(tweets , language=lang)\n",
    "    tweets <- cbind(tweets, sentiments)\n",
    "    sentimentTotals <- data.frame(colSums(tweets[,c(2:9)]))\n",
    "    names(sentimentTotals) <- \"count\"\n",
    "    sentimentTotals <- cbind(\"sentiment\" = rownames(sentimentTotals), sentimentTotals)\n",
    "    rownames(sentimentTotals) <- NULL    \n",
    "    print(ggplot(data = sentimentTotals, aes(x = sentiment, y = count)) +\n",
    "      geom_bar(aes(fill = sentiment), stat = \"identity\") +\n",
    "      theme(legend.position = \"none\") +\n",
    "      xlab(\"Sentiment\") + ylab(\"Total Count\") + ggtitle(\"Total Sentiment Score for All Tweets\"))\n",
    "    return(sentiments)\n",
    "}"
   ]
  },
  {
   "cell_type": "code",
   "execution_count": 10,
   "metadata": {},
   "outputs": [
    {
     "name": "stderr",
     "output_type": "stream",
     "text": [
      "Warning message:\n",
      "“`data_frame()` is deprecated as of tibble 1.1.0.\n",
      "Please use `tibble()` instead.\n",
      "\u001b[90mThis warning is displayed once every 8 hours.\u001b[39m\n",
      "\u001b[90mCall `lifecycle::last_warnings()` to see where this warning was generated.\u001b[39m”\n"
     ]
    }
   ],
   "source": [
    "sent_pt = sentimentos(tweets_pt$tweet, \"portuguese\")"
   ]
  },
  {
   "cell_type": "code",
   "execution_count": null,
   "metadata": {},
   "outputs": [],
   "source": [
    "sent_users_pt = sentimentos(tweets_users_pt$tweet, \"portuguese\")"
   ]
  },
  {
   "cell_type": "code",
   "execution_count": null,
   "metadata": {},
   "outputs": [],
   "source": [
    "sent_bots_pt = sentimentos(tweets_bots_pt$tweet, \"portuguese\")"
   ]
  },
  {
   "cell_type": "code",
   "execution_count": null,
   "metadata": {},
   "outputs": [],
   "source": [
    "sent_fr = sentimentos(tweets_fr$tweet, \"french\")"
   ]
  },
  {
   "cell_type": "code",
   "execution_count": null,
   "metadata": {},
   "outputs": [],
   "source": [
    "sent_users_fr = sentimentos(tweets_users_fr$tweet, \"french\")"
   ]
  },
  {
   "cell_type": "code",
   "execution_count": null,
   "metadata": {},
   "outputs": [],
   "source": [
    "sent_bots_fr = sentimentos(tweets_bots_fr$tweet, \"french\")"
   ]
  },
  {
   "cell_type": "markdown",
   "metadata": {},
   "source": [
    "## Polaridade"
   ]
  },
  {
   "cell_type": "markdown",
   "metadata": {},
   "source": [
    "## Termos Frequentes"
   ]
  },
  {
   "cell_type": "code",
   "execution_count": null,
   "metadata": {},
   "outputs": [],
   "source": []
  },
  {
   "cell_type": "code",
   "execution_count": null,
   "metadata": {},
   "outputs": [],
   "source": []
  },
  {
   "cell_type": "code",
   "execution_count": null,
   "metadata": {},
   "outputs": [],
   "source": []
  }
 ],
 "metadata": {
  "kernelspec": {
   "display_name": "R",
   "language": "R",
   "name": "ir"
  },
  "language_info": {
   "codemirror_mode": "r",
   "file_extension": ".r",
   "mimetype": "text/x-r-source",
   "name": "R",
   "pygments_lexer": "r",
   "version": "3.6.3"
  }
 },
 "nbformat": 4,
 "nbformat_minor": 2
}
