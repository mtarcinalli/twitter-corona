{
 "cells": [
  {
   "cell_type": "code",
   "execution_count": null,
   "metadata": {},
   "outputs": [],
   "source": []
  },
  {
   "cell_type": "code",
   "execution_count": 1,
   "metadata": {},
   "outputs": [
    {
     "name": "stdout",
     "output_type": "stream",
     "text": [
      "postgres functions loaded...\n"
     ]
    }
   ],
   "source": [
    "%run ../aux/postgres.py"
   ]
  },
  {
   "cell_type": "code",
   "execution_count": 10,
   "metadata": {},
   "outputs": [
    {
     "data": {
      "text/plain": [
       "[(222, 'Covid-19 PT', None, None, None, None),\n",
       " (223, 'Covid-19 FR', None, None, None, None)]"
      ]
     },
     "execution_count": 10,
     "metadata": {},
     "output_type": "execute_result"
    }
   ],
   "source": [
    "query(\"select * from amostra where lower(descricao) like '%covid%'\")"
   ]
  },
  {
   "cell_type": "markdown",
   "metadata": {},
   "source": [
    "~~~~sql\n",
    "select count(codtweet) from amostratweet where codamostra = 222\n",
    "~~~~\n",
    "12.865.843"
   ]
  },
  {
   "cell_type": "markdown",
   "metadata": {},
   "source": [
    "~~~~sql\n",
    "select count(codtweet) from amostratweet where codamostra = 223\n",
    "~~~~\n",
    "11.861.867"
   ]
  },
  {
   "cell_type": "code",
   "execution_count": 9,
   "metadata": {},
   "outputs": [],
   "source": [
    "execSQL(\"insert into amostra (descricao) values ('Covid-19 FR')\")"
   ]
  },
  {
   "cell_type": "code",
   "execution_count": null,
   "metadata": {},
   "outputs": [],
   "source": []
  },
  {
   "cell_type": "code",
   "execution_count": null,
   "metadata": {},
   "outputs": [],
   "source": [
    "print('a')"
   ]
  },
  {
   "cell_type": "code",
   "execution_count": null,
   "metadata": {},
   "outputs": [],
   "source": []
  },
  {
   "cell_type": "code",
   "execution_count": null,
   "metadata": {},
   "outputs": [],
   "source": []
  },
  {
   "cell_type": "code",
   "execution_count": 1,
   "metadata": {},
   "outputs": [
    {
     "name": "stdout",
     "output_type": "stream",
     "text": [
      "corona1k.rds\t\t\t    tweetsfr.txt\n",
      "corona.rds\t\t\t    tweets_per_user.csv\n",
      "count_max_tweets_user_day_lang.csv  tweets_per_user_day.csv\n",
      "max_tweets_user_day_lang.csv\t    tweetspt.txt\n",
      "tweets1k.csv\t\t\t    tweets_user_day_lang.csv\n"
     ]
    }
   ],
   "source": [
    "!ls data"
   ]
  },
  {
   "cell_type": "markdown",
   "metadata": {},
   "source": [
    "## Exportando tweets:\n",
    "\n",
    "~~~~\n",
    "psql -d twitter -t -c \"select json from tweet where codprojeto = 37 and datatweet between '2020-03-20' and '2020-04-09' and json->>'lang' = 'pt'\"  > tweetspt.txt\n",
    "\n",
    "psql -d twitter -t -c \"select json from tweet where codprojeto = 37 and datatweet between '2020-03-20' and '2020-04-09' and json->>'lang' = 'fr'\"  > tweetsfr.txt\n",
    "\n",
    "mateus@kode:~/projetos/absa/20_corona/data$ wc -l tweetspt.txt\n",
    "12.865.844 tweetspt.txt\n",
    "\n",
    "mateus@kode:~/projetos/absa/20_corona/data$ wc -l tweetsfr.txt\n",
    "11.861.868 tweetsfr.txt\n",
    "~~~~"
   ]
  },
  {
   "cell_type": "markdown",
   "metadata": {},
   "source": [
    "## SQL conjuntos com tweets em português e francês:\n",
    "\n",
    "~~~~sql\n",
    "INSERT INTO amostratweet (codamostra, codtweet) select 222, codtweet from tweet where codprojeto = 37 and datatweet between '2020-03-20' and '2020-04-09' and json->>'lang' = 'pt';\n",
    "\n",
    "insert into amostratweet (codamostra, codtweet) select 223, codtweet from tweet where codprojeto = 37 and datatweet between '2020-03-20' and '2020-04-09' and json->>'lang' = 'fr';\n",
    "~~~~\n",
    "\n",
    "## Tweets por usuário por dia:\n",
    "\n",
    "~~~~\n",
    "psql -d twitter -t -c \"SELECT userid, datatweet, count(t.codtweet) as tweets FROM tweet t INNER JOIN amostratweet at ON at.codtweet = t.codtweet WHERE at.codamostra = 222 GROUP BY userid, datatweet\" > tweets_user_day_pt.csv\n",
    "\n",
    "psql -d twitter -t -c \"SELECT userid, datatweet, count(t.codtweet) as tweets FROM tweet t INNER JOIN amostratweet at ON at.codtweet = t.codtweet WHERE at.codamostra = 223 GROUP BY userid, datatweet\" > tweets_user_day_fr.csv\n",
    "\n",
    "~~~~\n"
   ]
  },
  {
   "cell_type": "code",
   "execution_count": 13,
   "metadata": {},
   "outputs": [
    {
     "data": {
      "text/plain": [
       "[(1, 'Tweets por dia pt'),\n",
       " (4, 'Default Profile Image pt'),\n",
       " (6, 'Followers count pt'),\n",
       " (8, 'Friends count pt'),\n",
       " (10, 'Created at pt'),\n",
       " (12, 'Group by 3 pt'),\n",
       " (13, 'Group by 4 pt')]"
      ]
     },
     "execution_count": 13,
     "metadata": {},
     "output_type": "execute_result"
    }
   ],
   "source": [
    "query(\"select * from deteccaobot where descricao like '%pt'\")"
   ]
  },
  {
   "cell_type": "code",
   "execution_count": 14,
   "metadata": {},
   "outputs": [
    {
     "data": {
      "text/plain": [
       "[(2, 'Tweets por dia fr'),\n",
       " (5, 'Default Profile Image fr'),\n",
       " (7, 'Followers count fr'),\n",
       " (9, 'Friends count fr'),\n",
       " (11, 'Created at fr'),\n",
       " (14, 'Group by 3 fr'),\n",
       " (15, 'Group by 4 fr')]"
      ]
     },
     "execution_count": 14,
     "metadata": {},
     "output_type": "execute_result"
    }
   ],
   "source": [
    "query(\"select * from deteccaobot where descricao like '%fr'\")"
   ]
  },
  {
   "cell_type": "code",
   "execution_count": 4,
   "metadata": {},
   "outputs": [
    {
     "data": {
      "text/plain": [
       "[]"
      ]
     },
     "execution_count": 4,
     "metadata": {},
     "output_type": "execute_result"
    }
   ],
   "source": [
    "select userid, count(userid) from deteccaobotuserid where coddeteccaobot in (1, 4, 6, 8, 10) order by 1 group by 1"
   ]
  },
  {
   "cell_type": "code",
   "execution_count": null,
   "metadata": {},
   "outputs": [],
   "source": [
    "select userid, count(userid) from deteccaobotuserid where coddeteccaobot in (2, 5, 7, 9, 11) order by 1 group by 1"
   ]
  },
  {
   "cell_type": "code",
   "execution_count": null,
   "metadata": {},
   "outputs": [],
   "source": []
  },
  {
   "cell_type": "markdown",
   "metadata": {},
   "source": [
    "~~~~sql\n",
    "insert into deteccaobotuserid (coddeteccaobot, userid) SELECT distinct 1, userid FROM tweet t INNER JOIN amostratweet at ON at.codtweet = t.codtweet WHERE at.codamostra = 222 GROUP BY userid, datatweet having count(t.codtweet) >= 100;\n",
    "insert into deteccaobotuserid (coddeteccaobot, userid) SELECT distinct 2, userid FROM tweet t INNER JOIN amostratweet at ON at.codtweet = t.codtweet WHERE at.codamostra = 223 GROUP BY userid, datatweet having count(t.codtweet) >= 100;\n",
    "\n",
    "\n",
    "~~~~"
   ]
  },
  {
   "cell_type": "markdown",
   "metadata": {},
   "source": [
    "## Imagem"
   ]
  },
  {
   "cell_type": "code",
   "execution_count": null,
   "metadata": {},
   "outputs": [],
   "source": [
    "tweet['user']['default_profile_image']"
   ]
  },
  {
   "cell_type": "code",
   "execution_count": 8,
   "metadata": {},
   "outputs": [
    {
     "data": {
      "text/plain": [
       "[(4, 'Default Profile Image pt'), (5, 'Default Profile Image fr')]"
      ]
     },
     "execution_count": 8,
     "metadata": {},
     "output_type": "execute_result"
    }
   ],
   "source": [
    "query(\"select * from deteccaobot where descricao like 'Default Profile%'\")"
   ]
  },
  {
   "cell_type": "markdown",
   "metadata": {},
   "source": [
    "222 - português\n",
    "223 - francês\n",
    "~~~~sql\n",
    "insert into deteccaobotuserid (coddeteccaobot, userid) SELECT distinct 4, userid FROM tweet t INNER JOIN amostratweet at ON at.codtweet = t.codtweet WHERE at.codamostra = 222 AND json->'user'->>'default_profile_image' = 'false';\n",
    "insert into deteccaobotuserid (coddeteccaobot, userid) SELECT distinct 5, userid FROM tweet t INNER JOIN amostratweet at ON at.codtweet = t.codtweet WHERE at.codamostra = 223 AND json->'user'->>'default_profile_image' = 'false';\n",
    "\n",
    "~~~~"
   ]
  },
  {
   "cell_type": "code",
   "execution_count": null,
   "metadata": {},
   "outputs": [],
   "source": [
    "query(\"select coddeteccaobot, count(*) from deteccaobotuserid group by 1\")"
   ]
  },
  {
   "cell_type": "code",
   "execution_count": null,
   "metadata": {},
   "outputs": [],
   "source": [
    "execSQL(\"insert into deteccaobot (descricao) values ('Followers count pt')\")"
   ]
  },
  {
   "cell_type": "code",
   "execution_count": null,
   "metadata": {},
   "outputs": [],
   "source": [
    "execSQL(\"insert into deteccaobot (descricao) values ('Followers count fr')\")"
   ]
  },
  {
   "cell_type": "raw",
   "metadata": {},
   "source": [
    "\n",
    "psql -d twitter -t -c \"select  json->>'source', count(t.codtweet) FROM tweet t INNER JOIN amostratweet at ON at.codtweet = t.codtweet WHERE at.codamostra = 223 group by 1 order by 2 desc;\" > sources.txt\n",
    "\n"
   ]
  },
  {
   "cell_type": "code",
   "execution_count": null,
   "metadata": {},
   "outputs": [],
   "source": [
    "friends_count"
   ]
  },
  {
   "cell_type": "code",
   "execution_count": 12,
   "metadata": {},
   "outputs": [],
   "source": [
    "execSQL(\"insert into deteccaobot (descricao) values ('Group by 3 pt')\")\n",
    "execSQL(\"insert into deteccaobot (descricao) values ('Group by 4 pt')\")\n",
    "\n",
    "execSQL(\"insert into deteccaobot (descricao) values ('Group by 3 fr')\")\n",
    "execSQL(\"insert into deteccaobot (descricao) values ('Group by 4 fr')\")"
   ]
  },
  {
   "cell_type": "code",
   "execution_count": null,
   "metadata": {},
   "outputs": [],
   "source": [
    "execSQL(\"insert into deteccaobot (descricao) values ('Friends count fr')\")"
   ]
  },
  {
   "cell_type": "code",
   "execution_count": null,
   "metadata": {},
   "outputs": [],
   "source": [
    "execSQL(\"insert into deteccaobot (descricao) values ('Created at pt')\")"
   ]
  },
  {
   "cell_type": "code",
   "execution_count": null,
   "metadata": {},
   "outputs": [],
   "source": []
  },
  {
   "cell_type": "code",
   "execution_count": null,
   "metadata": {},
   "outputs": [],
   "source": [
    "print('a')"
   ]
  },
  {
   "cell_type": "markdown",
   "metadata": {},
   "source": [
    "~~~~sql\n",
    "--- followers count\n",
    "insert into deteccaobotuserid (coddeteccaobot, userid) SELECT distinct 6, userid FROM tweet t INNER JOIN amostratweet at ON at.codtweet = t.codtweet WHERE t.codprojeto = 37 and at.codamostra = 222 AND json->'user'->>'followers_count' = '0';\n",
    "\n",
    "insert into deteccaobotuserid (coddeteccaobot, userid) SELECT distinct 7, userid FROM tweet t INNER JOIN amostratweet at ON at.codtweet = t.codtweet WHERE t.codprojeto = 37 and at.codamostra = 223 AND json->'user'->>'followers_count' = '0';  \n",
    "\n",
    "--- friends count\n",
    "insert into deteccaobotuserid (coddeteccaobot, userid) SELECT distinct 8, userid FROM tweet t INNER JOIN amostratweet at ON at.codtweet = t.codtweet WHERE t.codprojeto = 37 and at.codamostra = 222 AND json->'user'->>'friends_count' = '0';\n",
    "\n",
    "insert into deteccaobotuserid (coddeteccaobot, userid) SELECT distinct 9, userid FROM tweet t INNER JOIN amostratweet at ON at.codtweet = t.codtweet WHERE t.codprojeto = 37 and at.codamostra = 223 AND json->'user'->>'friends_count' = '0';  \n",
    "\n",
    "--- created at\n",
    "insert into deteccaobotuserid (coddeteccaobot, userid) SELECT distinct 10, userid FROM tweet t INNER JOIN amostratweet at ON at.codtweet = t.codtweet WHERE t.codprojeto = 37 and at.codamostra = 222 AND ((json->>'created_at')::date - (json->'user'->>'created_at')::date) <=7;\n",
    "\n",
    "insert into deteccaobotuserid (coddeteccaobot, userid) SELECT distinct 11, userid FROM tweet t INNER JOIN amostratweet at ON at.codtweet = t.codtweet WHERE t.codprojeto = 37 and at.codamostra = 223 AND ((json->>'created_at')::date - (json->'user'->>'created_at')::date) <= 7;  \n",
    "\n"
   ]
  },
  {
   "cell_type": "code",
   "execution_count": 17,
   "metadata": {},
   "outputs": [
    {
     "data": {
      "text/plain": [
       "[(12, 'Group by 3 pt'),\n",
       " (13, 'Group by 4 pt'),\n",
       " (14, 'Group by 3 fr'),\n",
       " (15, 'Group by 4 fr')]"
      ]
     },
     "execution_count": 17,
     "metadata": {},
     "output_type": "execute_result"
    }
   ],
   "source": [
    "query(\"select * from deteccaobot where descricao like 'Group%'\")"
   ]
  },
  {
   "cell_type": "markdown",
   "metadata": {},
   "source": [
    "~~~~sql\n",
    "insert into deteccaobotuserid (coddeteccaobot, userid) SELECT 12, userid from deteccaobotuserid where coddeteccaobot in (1, 4, 6, 8, 10) group by userid having count(*) >= 3;\n",
    "\n",
    "insert into deteccaobotuserid (coddeteccaobot, userid) SELECT 13, userid from deteccaobotuserid where coddeteccaobot in (1, 4, 6, 8, 10) group by userid having count(*) >= 4;\n",
    "\n",
    "insert into deteccaobotuserid (coddeteccaobot, userid) SELECT 14, userid from deteccaobotuserid where coddeteccaobot in (2, 5, 7, 9, 11) group by userid having count(*) >= 3;\n",
    "\n",
    "insert into deteccaobotuserid (coddeteccaobot, userid) SELECT 15, userid from deteccaobotuserid where coddeteccaobot in (2, 5, 7, 9, 11) group by userid having count(*) >= 4;\n",
    "~~~~"
   ]
  },
  {
   "cell_type": "code",
   "execution_count": 24,
   "metadata": {},
   "outputs": [
    {
     "data": {
      "text/plain": [
       "[(1, 'Tweets por dia pt', 297),\n",
       " (4, 'Default Profile Image pt', 2203618),\n",
       " (6, 'Followers count pt', 38462),\n",
       " (8, 'Friends count pt', 9034),\n",
       " (10, 'Created at pt', 57924)]"
      ]
     },
     "execution_count": 24,
     "metadata": {},
     "output_type": "execute_result"
    }
   ],
   "source": [
    "query(\"SELECT dbu.coddeteccaobot, db.descricao, count(*) as users FROM deteccaobotuserid dbu INNER JOIN deteccaobot db ON db.coddeteccaobot = dbu.coddeteccaobot WHERE db.descricao not like 'Group%' AND db.descricao like '%pt' GROUP BY 1, 2\")"
   ]
  },
  {
   "cell_type": "code",
   "execution_count": 26,
   "metadata": {},
   "outputs": [
    {
     "data": {
      "text/plain": [
       "[(12, 'Group by 3 pt', 19452), (13, 'Group by 4 pt', 2983)]"
      ]
     },
     "execution_count": 26,
     "metadata": {},
     "output_type": "execute_result"
    }
   ],
   "source": [
    "query(\"SELECT dbu.coddeteccaobot, db.descricao, count(*) as users FROM deteccaobotuserid dbu INNER JOIN deteccaobot db ON db.coddeteccaobot = dbu.coddeteccaobot WHERE db.descricao like 'Group%' AND db.descricao like '%pt' GROUP BY 1, 2\")"
   ]
  },
  {
   "cell_type": "code",
   "execution_count": 25,
   "metadata": {},
   "outputs": [
    {
     "data": {
      "text/plain": [
       "[(2, 'Tweets por dia fr', 653),\n",
       " (5, 'Default Profile Image fr', 1340381),\n",
       " (7, 'Followers count fr', 35446),\n",
       " (9, 'Friends count fr', 10138),\n",
       " (11, 'Created at fr', 34767)]"
      ]
     },
     "execution_count": 25,
     "metadata": {},
     "output_type": "execute_result"
    }
   ],
   "source": [
    "query(\"SELECT dbu.coddeteccaobot, db.descricao, count(*) as users FROM deteccaobotuserid dbu INNER JOIN deteccaobot db ON db.coddeteccaobot = dbu.coddeteccaobot WHERE db.descricao not like 'Group%' AND db.descricao like '%fr' GROUP BY 1, 2\")"
   ]
  },
  {
   "cell_type": "code",
   "execution_count": 27,
   "metadata": {},
   "outputs": [
    {
     "data": {
      "text/plain": [
       "[(14, 'Group by 3 fr', 17430), (15, 'Group by 4 fr', 3721)]"
      ]
     },
     "execution_count": 27,
     "metadata": {},
     "output_type": "execute_result"
    }
   ],
   "source": [
    "query(\"SELECT dbu.coddeteccaobot, db.descricao, count(*) as users FROM deteccaobotuserid dbu INNER JOIN deteccaobot db ON db.coddeteccaobot = dbu.coddeteccaobot WHERE db.descricao like 'Group%' AND db.descricao like '%fr' GROUP BY 1, 2\")"
   ]
  },
  {
   "cell_type": "code",
   "execution_count": null,
   "metadata": {},
   "outputs": [],
   "source": []
  }
 ],
 "metadata": {
  "kernelspec": {
   "display_name": "Python 3",
   "language": "python",
   "name": "python3"
  },
  "language_info": {
   "codemirror_mode": {
    "name": "ipython",
    "version": 3
   },
   "file_extension": ".py",
   "mimetype": "text/x-python",
   "name": "python",
   "nbconvert_exporter": "python",
   "pygments_lexer": "ipython3",
   "version": "3.7.3"
  }
 },
 "nbformat": 4,
 "nbformat_minor": 4
}
