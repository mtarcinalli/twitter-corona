{
 "cells": [
  {
   "cell_type": "markdown",
   "metadata": {},
   "source": [
    "# Detecting Bots in Covid-19 Tweets"
   ]
  },
  {
   "cell_type": "code",
   "execution_count": 50,
   "metadata": {},
   "outputs": [],
   "source": [
    "from IPython.display import HTML, display\n",
    "import tabulate\n",
    "import pandas as pd\n",
    "import numpy as np\n",
    "import matplotlib.pyplot as plt"
   ]
  },
  {
   "cell_type": "code",
   "execution_count": 8,
   "metadata": {},
   "outputs": [
    {
     "name": "stdout",
     "output_type": "stream",
     "text": [
      "postgres functions loaded...\n"
     ]
    }
   ],
   "source": [
    "%run ../aux/postgres.py"
   ]
  },
  {
   "cell_type": "markdown",
   "metadata": {},
   "source": [
    "## Sets of Tweets in Portuguese and French"
   ]
  },
  {
   "cell_type": "code",
   "execution_count": 53,
   "metadata": {},
   "outputs": [
    {
     "data": {
      "text/html": [
       "<table>\n",
       "<tbody>\n",
       "<tr><td style=\"text-align: right;\">222</td><td>Covid-19 PT</td><td style=\"text-align: right;\">12865843</td></tr>\n",
       "<tr><td style=\"text-align: right;\">223</td><td>Covid-19 FR</td><td style=\"text-align: right;\">11861867</td></tr>\n",
       "</tbody>\n",
       "</table>"
      ],
      "text/plain": [
       "<IPython.core.display.HTML object>"
      ]
     },
     "metadata": {},
     "output_type": "display_data"
    }
   ],
   "source": [
    "table = query(\"select codamostra, descricao, (select count(at.codtweet) from amostratweet at where at.codamostra = a.codamostra) from amostra a where lower(descricao) like '%covid%'\")\n",
    "display(HTML(tabulate.tabulate(table, tablefmt='html')))"
   ]
  },
  {
   "cell_type": "markdown",
   "metadata": {},
   "source": [
    "## Exporting tweets to csv:\n",
    "\n",
    "~~~~\n",
    "psql -d twitter -t -c \"select json from tweet where codprojeto = 37 and datatweet between '2020-03-20' and '2020-04-09' and json->>'lang' = 'pt'\"  > tweetspt.txt\n",
    "\n",
    "psql -d twitter -t -c \"select json from tweet where codprojeto = 37 and datatweet between '2020-03-20' and '2020-04-09' and json->>'lang' = 'fr'\"  > tweetsfr.txt\n",
    "\n",
    "mateus@kode:~/projetos/absa/20_corona/data$ wc -l tweetspt.txt\n",
    "12.865.844 tweetspt.txt\n",
    "\n",
    "mateus@kode:~/projetos/absa/20_corona/data$ wc -l tweetsfr.txt\n",
    "11.861.868 tweetsfr.txt\n",
    "~~~~"
   ]
  },
  {
   "cell_type": "markdown",
   "metadata": {},
   "source": [
    "## SQL sets of tweets in Portuguese and French:\n",
    "\n",
    "~~~~sql\n",
    "INSERT INTO amostratweet (codamostra, codtweet) select 222, codtweet from tweet where codprojeto = 37 and datatweet between '2020-03-20' and '2020-04-09' and json->>'lang' = 'pt';\n",
    "\n",
    "insert into amostratweet (codamostra, codtweet) select 223, codtweet from tweet where codprojeto = 37 and datatweet between '2020-03-20' and '2020-04-09' and json->>'lang' = 'fr';\n",
    "~~~~"
   ]
  },
  {
   "cell_type": "markdown",
   "metadata": {},
   "source": [
    "## Rule 01: users with more than 100 tweets in a single day\n",
    "\n",
    "~~~~\n",
    "psql -d twitter -t -c \"SELECT userid, datatweet, count(t.codtweet) as tweets FROM tweet t INNER JOIN amostratweet at ON at.codtweet = t.codtweet WHERE at.codamostra = 222 GROUP BY userid, datatweet\" > tweets_user_day_pt.csv\n",
    "\n",
    "psql -d twitter -t -c \"SELECT userid, datatweet, count(t.codtweet) as tweets FROM tweet t INNER JOIN amostratweet at ON at.codtweet = t.codtweet WHERE at.codamostra = 223 GROUP BY userid, datatweet\" > tweets_user_day_fr.csv\n",
    "\n",
    "~~~~\n"
   ]
  },
  {
   "cell_type": "markdown",
   "metadata": {},
   "source": [
    "~~~~sql\n",
    "insert into deteccaobotuserid (coddeteccaobot, userid) SELECT distinct 1, userid FROM tweet t INNER JOIN amostratweet at ON at.codtweet = t.codtweet WHERE at.codamostra = 222 GROUP BY userid, datatweet having count(t.codtweet) >= 100;\n",
    "insert into deteccaobotuserid (coddeteccaobot, userid) SELECT distinct 2, userid FROM tweet t INNER JOIN amostratweet at ON at.codtweet = t.codtweet WHERE at.codamostra = 223 GROUP BY userid, datatweet having count(t.codtweet) >= 100;\n",
    "~~~~"
   ]
  },
  {
   "cell_type": "code",
   "execution_count": 37,
   "metadata": {},
   "outputs": [
    {
     "data": {
      "text/html": [
       "<table>\n",
       "<tbody>\n",
       "<tr><td style=\"text-align: right;\">1</td><td>Tweets por dia pt</td><td style=\"text-align: right;\">297</td></tr>\n",
       "<tr><td style=\"text-align: right;\">2</td><td>Tweets por dia fr</td><td style=\"text-align: right;\">653</td></tr>\n",
       "</tbody>\n",
       "</table>"
      ],
      "text/plain": [
       "<IPython.core.display.HTML object>"
      ]
     },
     "metadata": {},
     "output_type": "display_data"
    }
   ],
   "source": [
    "table = query(\"SELECT dbu.coddeteccaobot, db.descricao, count(*) as users FROM deteccaobotuserid dbu INNER JOIN deteccaobot db ON db.coddeteccaobot = dbu.coddeteccaobot WHERE db.descricao like 'Tweets por dia%' GROUP BY 1, 2\")\n",
    "display(HTML(tabulate.tabulate(table, tablefmt='html')))"
   ]
  },
  {
   "cell_type": "markdown",
   "metadata": {},
   "source": [
    "## Rule 02: user without profile image"
   ]
  },
  {
   "cell_type": "markdown",
   "metadata": {},
   "source": [
    "222 - português\n",
    "223 - francês\n",
    "~~~~sql\n",
    "insert into deteccaobotuserid (coddeteccaobot, userid) SELECT distinct 4, userid FROM tweet t INNER JOIN amostratweet at ON at.codtweet = t.codtweet WHERE at.codamostra = 222 AND json->'user'->>'default_profile_image' = 'false';\n",
    "insert into deteccaobotuserid (coddeteccaobot, userid) SELECT distinct 5, userid FROM tweet t INNER JOIN amostratweet at ON at.codtweet = t.codtweet WHERE at.codamostra = 223 AND json->'user'->>'default_profile_image' = 'false';\n",
    "\n",
    "~~~~"
   ]
  },
  {
   "cell_type": "code",
   "execution_count": 40,
   "metadata": {},
   "outputs": [
    {
     "data": {
      "text/html": [
       "<table>\n",
       "<tbody>\n",
       "<tr><td style=\"text-align: right;\">4</td><td>Default Profile Image pt</td><td style=\"text-align: right;\">2203618</td></tr>\n",
       "<tr><td style=\"text-align: right;\">5</td><td>Default Profile Image fr</td><td style=\"text-align: right;\">1340381</td></tr>\n",
       "</tbody>\n",
       "</table>"
      ],
      "text/plain": [
       "<IPython.core.display.HTML object>"
      ]
     },
     "metadata": {},
     "output_type": "display_data"
    }
   ],
   "source": [
    "table = query(\"SELECT dbu.coddeteccaobot, db.descricao, count(*) as users FROM deteccaobotuserid dbu INNER JOIN deteccaobot db ON db.coddeteccaobot = dbu.coddeteccaobot WHERE db.descricao like 'Default Profile Image%' GROUP BY 1, 2\")\n",
    "display(HTML(tabulate.tabulate(table, tablefmt='html')))"
   ]
  },
  {
   "cell_type": "markdown",
   "metadata": {},
   "source": [
    "## Rule 03: followers count\n",
    "\n",
    "~~~~sql\n",
    "--- followers count\n",
    "insert into deteccaobotuserid (coddeteccaobot, userid) SELECT distinct 6, userid FROM tweet t INNER JOIN amostratweet at ON at.codtweet = t.codtweet WHERE t.codprojeto = 37 and at.codamostra = 222 AND json->'user'->>'followers_count' = '0';\n",
    "\n",
    "insert into deteccaobotuserid (coddeteccaobot, userid) SELECT distinct 7, userid FROM tweet t INNER JOIN amostratweet at ON at.codtweet = t.codtweet WHERE t.codprojeto = 37 and at.codamostra = 223 AND json->'user'->>'followers_count' = '0';  \n",
    "~~~~"
   ]
  },
  {
   "cell_type": "code",
   "execution_count": 39,
   "metadata": {},
   "outputs": [
    {
     "data": {
      "text/html": [
       "<table>\n",
       "<tbody>\n",
       "<tr><td style=\"text-align: right;\">6</td><td>Followers count pt</td><td style=\"text-align: right;\">38462</td></tr>\n",
       "<tr><td style=\"text-align: right;\">7</td><td>Followers count fr</td><td style=\"text-align: right;\">35446</td></tr>\n",
       "</tbody>\n",
       "</table>"
      ],
      "text/plain": [
       "<IPython.core.display.HTML object>"
      ]
     },
     "metadata": {},
     "output_type": "display_data"
    }
   ],
   "source": [
    "table = query(\"SELECT dbu.coddeteccaobot, db.descricao, count(*) as users FROM deteccaobotuserid dbu INNER JOIN deteccaobot db ON db.coddeteccaobot = dbu.coddeteccaobot WHERE db.descricao like 'Followers%' GROUP BY 1, 2\")\n",
    "display(HTML(tabulate.tabulate(table, tablefmt='html')))"
   ]
  },
  {
   "cell_type": "markdown",
   "metadata": {},
   "source": [
    "## Rule 04: friends count\n",
    "\n",
    "~~~~sql\n",
    "--- friends count\n",
    "insert into deteccaobotuserid (coddeteccaobot, userid) SELECT distinct 8, userid FROM tweet t INNER JOIN amostratweet at ON at.codtweet = t.codtweet WHERE t.codprojeto = 37 and at.codamostra = 222 AND json->'user'->>'friends_count' = '0';\n",
    "\n",
    "insert into deteccaobotuserid (coddeteccaobot, userid) SELECT distinct 9, userid FROM tweet t INNER JOIN amostratweet at ON at.codtweet = t.codtweet WHERE t.codprojeto = 37 and at.codamostra = 223 AND json->'user'->>'friends_count' = '0';  \n",
    "~~~~"
   ]
  },
  {
   "cell_type": "code",
   "execution_count": 41,
   "metadata": {},
   "outputs": [
    {
     "data": {
      "text/html": [
       "<table>\n",
       "<tbody>\n",
       "<tr><td style=\"text-align: right;\">8</td><td>Friends count pt</td><td style=\"text-align: right;\"> 9034</td></tr>\n",
       "<tr><td style=\"text-align: right;\">9</td><td>Friends count fr</td><td style=\"text-align: right;\">10138</td></tr>\n",
       "</tbody>\n",
       "</table>"
      ],
      "text/plain": [
       "<IPython.core.display.HTML object>"
      ]
     },
     "metadata": {},
     "output_type": "display_data"
    }
   ],
   "source": [
    "table = query(\"SELECT dbu.coddeteccaobot, db.descricao, count(*) as users FROM deteccaobotuserid dbu INNER JOIN deteccaobot db ON db.coddeteccaobot = dbu.coddeteccaobot WHERE db.descricao like 'Friends%' GROUP BY 1, 2\")\n",
    "display(HTML(tabulate.tabulate(table, tablefmt='html')))"
   ]
  },
  {
   "cell_type": "markdown",
   "metadata": {},
   "source": [
    "## Rule 05: difference betweet user creation date and tweet creation date\n",
    "\n",
    "~~~~sql\n",
    "--- created at\n",
    "insert into deteccaobotuserid (coddeteccaobot, userid) SELECT distinct 10, userid FROM tweet t INNER JOIN amostratweet at ON at.codtweet = t.codtweet WHERE t.codprojeto = 37 and at.codamostra = 222 AND ((json->>'created_at')::date - (json->'user'->>'created_at')::date) <=7;\n",
    "\n",
    "insert into deteccaobotuserid (coddeteccaobot, userid) SELECT distinct 11, userid FROM tweet t INNER JOIN amostratweet at ON at.codtweet = t.codtweet WHERE t.codprojeto = 37 and at.codamostra = 223 AND ((json->>'created_at')::date - (json->'user'->>'created_at')::date) <= 7;  \n",
    "~~~~"
   ]
  },
  {
   "cell_type": "code",
   "execution_count": 42,
   "metadata": {},
   "outputs": [
    {
     "data": {
      "text/html": [
       "<table>\n",
       "<tbody>\n",
       "<tr><td style=\"text-align: right;\">10</td><td>Created at pt</td><td style=\"text-align: right;\">57924</td></tr>\n",
       "<tr><td style=\"text-align: right;\">11</td><td>Created at fr</td><td style=\"text-align: right;\">34767</td></tr>\n",
       "</tbody>\n",
       "</table>"
      ],
      "text/plain": [
       "<IPython.core.display.HTML object>"
      ]
     },
     "metadata": {},
     "output_type": "display_data"
    }
   ],
   "source": [
    "table = query(\"SELECT dbu.coddeteccaobot, db.descricao, count(*) as users FROM deteccaobotuserid dbu INNER JOIN deteccaobot db ON db.coddeteccaobot = dbu.coddeteccaobot WHERE db.descricao like 'Create%' GROUP BY 1, 2\")\n",
    "display(HTML(tabulate.tabulate(table, tablefmt='html')))"
   ]
  },
  {
   "cell_type": "markdown",
   "metadata": {},
   "source": [
    "## Rule 06: tweet posted from non official client\n",
    "\n",
    "~~~~sql\n",
    "\n",
    "insert into deteccaobotuserid (coddeteccaobot, userid) SELECT distinct 16, userid FROM tweet t INNER JOIN amostratweet at ON at.codtweet = t.codtweet WHERE t.codprojeto = 37 and at.codamostra = 222 AND t.text not like '%twitter.com%>Twitter%';\n",
    "\n",
    "insert into deteccaobotuserid (coddeteccaobot, userid) SELECT distinct 17, userid FROM tweet t INNER JOIN amostratweet at ON at.codtweet = t.codtweet WHERE t.codprojeto = 37 and at.codamostra = 223 AND t.text not like '%twitter.com%>Twitter%';\n",
    "\n",
    "~~~~"
   ]
  },
  {
   "cell_type": "code",
   "execution_count": 10,
   "metadata": {},
   "outputs": [
    {
     "data": {
      "text/html": [
       "<table>\n",
       "<tbody>\n",
       "<tr><td style=\"text-align: right;\">16</td><td>Tweet Source pt</td><td style=\"text-align: right;\">2203618</td></tr>\n",
       "<tr><td style=\"text-align: right;\">17</td><td>Tweet Source fr</td><td style=\"text-align: right;\">1340381</td></tr>\n",
       "</tbody>\n",
       "</table>"
      ],
      "text/plain": [
       "<IPython.core.display.HTML object>"
      ]
     },
     "metadata": {},
     "output_type": "display_data"
    }
   ],
   "source": [
    "table = query(\"SELECT dbu.coddeteccaobot, db.descricao, count(*) as users FROM deteccaobotuserid dbu INNER JOIN deteccaobot db ON db.coddeteccaobot = dbu.coddeteccaobot WHERE db.descricao like 'Tweet Source%' GROUP BY 1, 2\")\n",
    "display(HTML(tabulate.tabulate(table, tablefmt='html')))"
   ]
  },
  {
   "cell_type": "markdown",
   "metadata": {},
   "source": [
    "## Rule 07: percentage of retweets"
   ]
  },
  {
   "cell_type": "markdown",
   "metadata": {},
   "source": [
    "psql -d twitter -t -c \"SELECT t.userid, count(t.codtweet) as retweets FROM tweet t INNER JOIN amostratweet at ON at.codtweet = t.codtweet WHERE t.codprojeto = 37 AND at.codamostra = 222 AND lower(t.text) like 'rt%' GROUP BY 1\" > user_retweets_pt.csv\n",
    "\n",
    "psql -d twitter -t -c \"SELECT t.userid, count(t.codtweet) as retweets FROM tweet t INNER JOIN amostratweet at ON at.codtweet = t.codtweet WHERE t.codprojeto = 37 AND at.codamostra = 223 AND lower(t.text) like 'rt%' GROUP BY 1\" > user_retweets_fr.csv\n",
    "\n",
    "psql -d twitter -t -c \"SELECT t.userid, count(t.codtweet) as tweets FROM tweet t INNER JOIN amostratweet at ON at.codtweet = t.codtweet WHERE t.codprojeto = 37 AND at.codamostra = 222 GROUP BY 1\" > user_tweets_pt.csv\n",
    "\n",
    "psql -d twitter -t -c \"SELECT t.userid, count(t.codtweet) as tweets FROM tweet t INNER JOIN amostratweet at ON at.codtweet = t.codtweet WHERE t.codprojeto = 37 AND at.codamostra = 223 GROUP BY 1\" > user_tweets_fr.csv\n",
    "\n"
   ]
  },
  {
   "cell_type": "code",
   "execution_count": 14,
   "metadata": {},
   "outputs": [
    {
     "name": "stdout",
     "output_type": "stream",
     "text": [
      " 1000000000234049538 |        1\r\n",
      " 1000000043833810945 |       10\r\n",
      " 1000000052214009859 |        3\r\n",
      " 1000000063198949377 |        1\r\n",
      " 1000000069045772288 |        3\r\n",
      " 1000000072539693057 |        1\r\n",
      " 1000000155976945665 |        1\r\n",
      " 1000000173131563008 |        1\r\n",
      " 1000000203615866880 |        2\r\n",
      " 1000000221928214528 |        1\r\n"
     ]
    }
   ],
   "source": [
    "!head data/user_retweets_pt.csv"
   ]
  },
  {
   "cell_type": "code",
   "execution_count": 26,
   "metadata": {},
   "outputs": [],
   "source": [
    "!q -d'|' \"select t1.c1, t1.c2, t2.c2, (100 * t1.c2 / t2.c2) from data/user_retweets_pt.csv t1 inner join data/user_tweets_pt.csv t2 on t1.c1 = t2.c1\" > data/user_tweets_rts_pt.csv"
   ]
  },
  {
   "cell_type": "code",
   "execution_count": 28,
   "metadata": {},
   "outputs": [
    {
     "name": "stdout",
     "output_type": "stream",
     "text": [
      "1000000000234049538|1|1|100\r\n",
      "1000000043833810945|10|10|100\r\n",
      "1000000052214009859|3|3|100\r\n",
      "1000000063198949377|1|1|100\r\n",
      "1000000069045772288|3|3|100\r\n",
      "1000000072539693057|1|1|100\r\n",
      "1000000155976945665|1|1|100\r\n",
      "1000000173131563008|1|2|50\r\n",
      "1000000203615866880|2|2|100\r\n",
      "1000000221928214528|1|1|100\r\n"
     ]
    }
   ],
   "source": [
    "!head data/user_tweets_rts_pt.csv"
   ]
  },
  {
   "cell_type": "code",
   "execution_count": 32,
   "metadata": {},
   "outputs": [
    {
     "name": "stdout",
     "output_type": "stream",
     "text": [
      "1704836 data/user_tweets_rts_pt.csv\r\n"
     ]
    }
   ],
   "source": [
    "!wc -l data/user_tweets_rts_pt.csv"
   ]
  },
  {
   "cell_type": "code",
   "execution_count": 70,
   "metadata": {},
   "outputs": [],
   "source": [
    "# agrupando\n",
    "!q -d'|' \"select c4, count(c1) from data/user_tweets_rts_pt.csv group by c4 order by c4\" > data/user_tweets_rts_pt_group.csv"
   ]
  },
  {
   "cell_type": "code",
   "execution_count": 74,
   "metadata": {},
   "outputs": [
    {
     "data": {
      "image/png": "[encoded data removed]",
      "text/plain": [
       "<Figure size 432x288 with 1 Axes>"
      ]
     },
     "metadata": {
      "needs_background": "light"
     },
     "output_type": "display_data"
    }
   ],
   "source": [
    "tweetsRts = pd.read_csv('data/user_tweets_rts_pt_group.csv',names=['tweets','counts'],delimiter='|')\n",
    "plt.ylabel('Counts')\n",
    "plt.xlabel('% ReTweets')\n",
    "plt.hist(tweetsRts.tweets, weights=tweetsRts.counts)\n",
    "plt.grid(axis='y', alpha=0.75)"
   ]
  },
  {
   "cell_type": "code",
   "execution_count": 29,
   "metadata": {},
   "outputs": [],
   "source": [
    "!q -d'|' \"select t1.c1, t1.c2, t2.c2, (100 * t1.c2 / t2.c2) from data/user_retweets_fr.csv t1 inner join data/user_tweets_fr.csv t2 on t1.c1 = t2.c1\" > data/user_tweets_rts_fr.csv"
   ]
  },
  {
   "cell_type": "code",
   "execution_count": 30,
   "metadata": {},
   "outputs": [
    {
     "name": "stdout",
     "output_type": "stream",
     "text": [
      "1000000135|3|3|100\r\n",
      "1000000204685312001|1|1|100\r\n",
      "1000000317151502336|4|4|100\r\n",
      "1000000325695262720|1|1|100\r\n",
      "1000000540829417472|19|19|100\r\n",
      "1000000605082046465|5|5|100\r\n",
      "1000000654566404096|2|2|100\r\n",
      "1000000830072815616|1|2|50\r\n",
      "1000000857407148033|2|2|100\r\n",
      "1000000907231334400|2|3|66\r\n"
     ]
    }
   ],
   "source": [
    "!head data/user_tweets_rts_fr.csv"
   ]
  },
  {
   "cell_type": "code",
   "execution_count": 31,
   "metadata": {},
   "outputs": [
    {
     "name": "stdout",
     "output_type": "stream",
     "text": [
      "1095929 data/user_tweets_rts_fr.csv\r\n"
     ]
    }
   ],
   "source": [
    "!wc -l data/user_tweets_rts_fr.csv"
   ]
  },
  {
   "cell_type": "code",
   "execution_count": 68,
   "metadata": {},
   "outputs": [],
   "source": [
    "# agrupando\n",
    "!q -d'|' \"select c4, count(c1) from data/user_tweets_rts_fr.csv group by c4 order by c4\" > data/user_tweets_rts_fr_group.csv"
   ]
  },
  {
   "cell_type": "code",
   "execution_count": 75,
   "metadata": {},
   "outputs": [
    {
     "data": {
      "image/png": "[encoded data removed]",
      "text/plain": [
       "<Figure size 432x288 with 1 Axes>"
      ]
     },
     "metadata": {
      "needs_background": "light"
     },
     "output_type": "display_data"
    }
   ],
   "source": [
    "tweetsRts = pd.read_csv('data/user_tweets_rts_fr_group.csv',names=['tweets','counts'],delimiter='|')\n",
    "plt.ylabel('Counts')\n",
    "plt.xlabel('% ReTweets')\n",
    "plt.hist(tweetsRts.tweets, weights=tweetsRts.counts)\n",
    "plt.grid(axis='y', alpha=0.75)"
   ]
  },
  {
   "cell_type": "markdown",
   "metadata": {},
   "source": [
    "### usuários com mais de 100 tweets"
   ]
  },
  {
   "cell_type": "code",
   "execution_count": 76,
   "metadata": {},
   "outputs": [
    {
     "data": {
      "image/png": "[encoded data removed]",
      "text/plain": [
       "<Figure size 432x288 with 1 Axes>"
      ]
     },
     "metadata": {
      "needs_background": "light"
     },
     "output_type": "display_data"
    }
   ],
   "source": [
    "# agrupando usuarios com mais de 100 tweets fr\n",
    "!q -d'|' \"select c4, count(c1) from data/user_tweets_rts_pt.csv where c3 > 100 group by c4 order by c4\" > data/user_tweets_rts_pt_group_gt_100.csv\n",
    "tweetsRts = pd.read_csv('data/user_tweets_rts_pt_group_gt_100.csv',names=['tweets','counts'],delimiter='|')\n",
    "plt.ylabel('Counts')\n",
    "plt.xlabel('% ReTweets')\n",
    "plt.hist(tweetsRts.tweets, weights=tweetsRts.counts)\n",
    "plt.grid(axis='y', alpha=0.75)"
   ]
  },
  {
   "cell_type": "code",
   "execution_count": 77,
   "metadata": {},
   "outputs": [
    {
     "data": {
      "image/png": "[encoded data removed]",
      "text/plain": [
       "<Figure size 432x288 with 1 Axes>"
      ]
     },
     "metadata": {
      "needs_background": "light"
     },
     "output_type": "display_data"
    }
   ],
   "source": [
    "# agrupando usuarios com mais de 100 tweets fr\n",
    "!q -d'|' \"select c4, count(c1) from data/user_tweets_rts_fr.csv where c3 > 100 group by c4 order by c4\" > data/user_tweets_rts_fr_group_gt_100.csv\n",
    "tweetsRts = pd.read_csv('data/user_tweets_rts_fr_group_gt_100.csv',names=['tweets','counts'],delimiter='|')\n",
    "plt.ylabel('Counts')\n",
    "plt.xlabel('% ReTweets')\n",
    "plt.hist(tweetsRts.tweets, weights=tweetsRts.counts)\n",
    "plt.grid(axis='y', alpha=0.75)"
   ]
  },
  {
   "cell_type": "code",
   "execution_count": 78,
   "metadata": {},
   "outputs": [
    {
     "name": "stdout",
     "output_type": "stream",
     "text": [
      "1000000135|3|3|100\r\n",
      "1000000204685312001|1|1|100\r\n",
      "1000000317151502336|4|4|100\r\n",
      "1000000325695262720|1|1|100\r\n",
      "1000000540829417472|19|19|100\r\n",
      "1000000605082046465|5|5|100\r\n",
      "1000000654566404096|2|2|100\r\n",
      "1000000830072815616|1|2|50\r\n",
      "1000000857407148033|2|2|100\r\n",
      "1000000907231334400|2|3|66\r\n"
     ]
    }
   ],
   "source": [
    "!head data/user_tweets_rts_fr.csv"
   ]
  },
  {
   "cell_type": "code",
   "execution_count": 82,
   "metadata": {},
   "outputs": [
    {
     "name": "stdout",
     "output_type": "stream",
     "text": [
      "18|1000000000234049538\n",
      "18|1000000043833810945\n",
      "18|1000000052214009859\n",
      "19|1000000135\n",
      "19|1000000204685312001\n",
      "19|1000000317151502336\n"
     ]
    }
   ],
   "source": [
    "# selecionando usuarios com mais de 80% de retweets\n",
    "!q -d'|' \"select 18, c1 from data/user_tweets_rts_pt.csv where c4 >= 80\" > data/rule07_users_pt.csv\n",
    "!head -3 data/rule07_users_pt.csv\n",
    "!q -d'|' \"select 19, c1 from data/user_tweets_rts_fr.csv where c4 >= 80\" > data/rule07_users_fr.csv\n",
    "!head -3 data/rule07_users_fr.csv"
   ]
  },
  {
   "cell_type": "markdown",
   "metadata": {},
   "source": [
    "~~~~sql\n",
    "\\copy deteccaobotuserid (coddeteccaobot, userid)  FROM 'data/rule07_users_pt.csv' DELIMITER '|' CSV;\n",
    "COPY 1337066\n",
    "\\copy deteccaobotuserid (coddeteccaobot, userid)  FROM 'data/rule07_users_fr.csv' DELIMITER '|' CSV;                                                                               \n",
    "COPY 908627\n",
    "~~~~"
   ]
  },
  {
   "cell_type": "code",
   "execution_count": null,
   "metadata": {},
   "outputs": [],
   "source": []
  },
  {
   "cell_type": "code",
   "execution_count": null,
   "metadata": {},
   "outputs": [],
   "source": []
  },
  {
   "cell_type": "code",
   "execution_count": null,
   "metadata": {},
   "outputs": [],
   "source": []
  },
  {
   "cell_type": "markdown",
   "metadata": {},
   "source": [
    "# Rules Combination\n",
    "\n",
    "## Users matching more than 3 rules\n",
    "~~~~sql\n",
    "insert into deteccaobotuserid (coddeteccaobot, userid) SELECT 12, userid from deteccaobotuserid where coddeteccaobot in (1, 4, 6, 8, 10) group by userid having count(*) >= 3;\n",
    "\n",
    "insert into deteccaobotuserid (coddeteccaobot, userid) SELECT 14, userid from deteccaobotuserid where coddeteccaobot in (2, 5, 7, 9, 11) group by userid having count(*) >= 3;\n",
    "~~~~"
   ]
  },
  {
   "cell_type": "code",
   "execution_count": 51,
   "metadata": {},
   "outputs": [
    {
     "data": {
      "text/html": [
       "<table>\n",
       "<tbody>\n",
       "<tr><td style=\"text-align: right;\">12</td><td>Group by 3 pt</td><td style=\"text-align: right;\">19452</td></tr>\n",
       "<tr><td style=\"text-align: right;\">14</td><td>Group by 3 fr</td><td style=\"text-align: right;\">17430</td></tr>\n",
       "</tbody>\n",
       "</table>"
      ],
      "text/plain": [
       "<IPython.core.display.HTML object>"
      ]
     },
     "metadata": {},
     "output_type": "display_data"
    }
   ],
   "source": [
    "table = query(\"SELECT dbu.coddeteccaobot, db.descricao, count(*) as users FROM deteccaobotuserid dbu INNER JOIN deteccaobot db ON db.coddeteccaobot = dbu.coddeteccaobot WHERE db.descricao like 'Group by 3%' GROUP BY 1, 2\")\n",
    "display(HTML(tabulate.tabulate(table, tablefmt='html')))"
   ]
  },
  {
   "cell_type": "markdown",
   "metadata": {},
   "source": [
    "## Users matching more than 4 rules\n",
    "~~~~sql\n",
    "insert into deteccaobotuserid (coddeteccaobot, userid) SELECT 13, userid from deteccaobotuserid where coddeteccaobot in (1, 4, 6, 8, 10) group by userid having count(*) >= 4;\n",
    "\n",
    "insert into deteccaobotuserid (coddeteccaobot, userid) SELECT 15, userid from deteccaobotuserid where coddeteccaobot in (2, 5, 7, 9, 11) group by userid having count(*) >= 4;\n",
    "~~~~"
   ]
  },
  {
   "cell_type": "code",
   "execution_count": 52,
   "metadata": {},
   "outputs": [
    {
     "data": {
      "text/html": [
       "<table>\n",
       "<tbody>\n",
       "<tr><td style=\"text-align: right;\">13</td><td>Group by 4 pt</td><td style=\"text-align: right;\">2983</td></tr>\n",
       "<tr><td style=\"text-align: right;\">15</td><td>Group by 4 fr</td><td style=\"text-align: right;\">3721</td></tr>\n",
       "</tbody>\n",
       "</table>"
      ],
      "text/plain": [
       "<IPython.core.display.HTML object>"
      ]
     },
     "metadata": {},
     "output_type": "display_data"
    }
   ],
   "source": [
    "table = query(\"SELECT dbu.coddeteccaobot, db.descricao, count(*) as users FROM deteccaobotuserid dbu INNER JOIN deteccaobot db ON db.coddeteccaobot = dbu.coddeteccaobot WHERE db.descricao like 'Group by 4%' GROUP BY 1, 2\")\n",
    "display(HTML(tabulate.tabulate(table, tablefmt='html')))"
   ]
  },
  {
   "cell_type": "markdown",
   "metadata": {},
   "source": [
    "# Rules Combination\n",
    "\n",
    "Users that match rule 01 and at least two other rules (rules 06, 07, and 05)."
   ]
  },
  {
   "cell_type": "markdown",
   "metadata": {},
   "source": [
    "~~~~sql\n",
    "\n",
    "insert into deteccaobotuserid (coddeteccaobot, userid) SELECT 20, userid from deteccaobotuserid where userid in (select userid from deteccaobotuserid where coddeteccaobot = 1) and coddeteccaobot in (10, 16, 18) group by userid having count(*) >= 2;\n",
    "\n",
    "\n",
    "insert into deteccaobotuserid (coddeteccaobot, userid) SELECT 21, userid from deteccaobotuserid where userid in (select userid from deteccaobotuserid where coddeteccaobot = 2) and coddeteccaobot in (11, 17, 19) group by userid having count(*) >= 2;\n",
    "~~~~"
   ]
  },
  {
   "cell_type": "code",
   "execution_count": 94,
   "metadata": {},
   "outputs": [
    {
     "data": {
      "text/html": [
       "<table>\n",
       "<tbody>\n",
       "<tr><td style=\"text-align: right;\">20</td><td>Rules Combination [pt]</td><td style=\"text-align: right;\">222</td></tr>\n",
       "<tr><td style=\"text-align: right;\">21</td><td>Rules Combination [fr]</td><td style=\"text-align: right;\">539</td></tr>\n",
       "</tbody>\n",
       "</table>"
      ],
      "text/plain": [
       "<IPython.core.display.HTML object>"
      ]
     },
     "metadata": {},
     "output_type": "display_data"
    }
   ],
   "source": [
    "table = query(\"SELECT dbu.coddeteccaobot, db.descricao, count(*) as users FROM deteccaobotuserid dbu INNER JOIN deteccaobot db ON db.coddeteccaobot = dbu.coddeteccaobot WHERE db.descricao like 'Rules Comb%' GROUP BY 1, 2\")\n",
    "display(HTML(tabulate.tabulate(table, tablefmt='html')))"
   ]
  },
  {
   "cell_type": "code",
   "execution_count": null,
   "metadata": {},
   "outputs": [],
   "source": []
  },
  {
   "cell_type": "code",
   "execution_count": null,
   "metadata": {},
   "outputs": [],
   "source": []
  },
  {
   "cell_type": "code",
   "execution_count": null,
   "metadata": {},
   "outputs": [],
   "source": []
  },
  {
   "cell_type": "code",
   "execution_count": null,
   "metadata": {},
   "outputs": [],
   "source": []
  },
  {
   "cell_type": "markdown",
   "metadata": {},
   "source": [
    "Antes de trabalhar nas tabelas dos tweets da covid, veja este email.\n",
    "Penso que a sua idéia de focar nos usuários com mais de 100\n",
    "tweets ao dia vai ser nosso foco.\n",
    "Li um artigo que bots podem ter muitos seguidores e que muitas vezes\n",
    "usam sim imagens de fundo e de perfil. Inclusive nas imagens de perfil\n",
    "usam fotos de pessoas famosas.\n",
    "Pelo que li os bots também retweetam bastante.\n",
    "Assim, veja minha sugestão:\n",
    " - tomar os usuários com >100 tweets dia. Alguns até podem ser ok se responderem automaticamente perguntas de usuários;\n",
    " - analisar os \"source\" destes tweets;\n",
    " - analisar se retweetam bastante; e\n",
    " - continuar analisando a diferença de tempo entre a criação do perfil e\n",
    " do envio do tweet.\n",
    "\n",
    "O que você acha?\n",
    "Se formos seguir esta ou outra estratégia, precisamos pensar nas queries\n",
    "que faremos no banco. Aí você me liga.\n",
    "[]s,\n",
    "Evandro\n",
    "\n",
    "Veja o que já tinha postado antes:\n",
    "\n",
    "Identify bots:\n",
    "\n",
    "-    Many Twitter bots have a relatively recent creation date.\n",
    "\n",
    "-    Many bot user names contain numbers, which can indicate automatic name generation.\n",
    "\n",
    "-    The account primarily retweets content, rather than tweeting original content.\n",
    "\n",
    "-    The account’s tweet frequency is higher than a human user could feasibly achieve.\n",
    "\n",
    "-    The account may have a high number of followers and also be following a lot of accounts; conversely, some bot accounts are identifiable because they send a lot of tweets but only have a few followers.\n",
    "\n",
    "-    Many bots tweet the same content as other users at roughly the same time. \n",
    "\n",
    "-    Short replies to other tweets can also indicate automated behavior.\n",
    "\n",
    "-    There is often no biography, or indeed a photo, associated with bot Twitter accounts\"\n",
    "\n",
    "\n"
   ]
  },
  {
   "cell_type": "code",
   "execution_count": 2,
   "metadata": {},
   "outputs": [
    {
     "name": "stdout",
     "output_type": "stream",
     "text": [
      "corona1k.rds\t\t\t    tweets_per_user.csv\r\n",
      "corona.rds\t\t\t    tweets_per_user_day.csv\r\n",
      "count_max_tweets_user_day_lang.csv  tweetspt.txt\r\n",
      "max_tweets_user_day_lang.csv\t    tweets_user_day_fr.csv\r\n",
      "sources.txt\t\t\t    tweets_user_day_lang.csv\r\n",
      "tweets1k.csv\t\t\t    tweets_user_day_pt.csv\r\n",
      "tweetsfr.txt\r\n"
     ]
    }
   ],
   "source": [
    "!ls data"
   ]
  },
  {
   "cell_type": "code",
   "execution_count": 4,
   "metadata": {},
   "outputs": [
    {
     "name": "stdout",
     "output_type": "stream",
     "text": [
      " <a href=\"http://twitter.com/download/iphone\" rel=\"nofollow\">Twitter for iPhone</a>                                                              | 4178334\r\n",
      " <a href=\"http://twitter.com/download/android\" rel=\"nofollow\">Twitter for Android</a>                                                            | 4125650\r\n",
      " <a href=\"https://mobile.twitter.com\" rel=\"nofollow\">Twitter Web App</a>                                                                         | 2295725\r\n",
      " <a href=\"http://twitter.com/#!/download/ipad\" rel=\"nofollow\">Twitter for iPad</a>                                                               |  404984\r\n",
      " <a href=\"http://twitter.com\" rel=\"nofollow\">Twitter Web Client</a>                                                                              |  296772\r\n",
      " <a href=\"https://about.twitter.com/products/tweetdeck\" rel=\"nofollow\">TweetDeck</a>                                                             |  113207\r\n",
      " <a href=\"http://publicize.wp.com/\" rel=\"nofollow\">WordPress.com</a>                                                                             |   59103\r\n",
      " <a href=\"https://dlvrit.com/\" rel=\"nofollow\">dlvr.it</a>                                                                                        |   44736\r\n",
      " <a href=\"https://ifttt.com\" rel=\"nofollow\">IFTTT</a>                                                                                            |   31830\r\n",
      " <a href=\"https://www.hootsuite.com\" rel=\"nofollow\">Hootsuite Inc.</a>                                                                           |   19496\r\n"
     ]
    }
   ],
   "source": [
    "!head data/sources.txt"
   ]
  },
  {
   "cell_type": "code",
   "execution_count": 5,
   "metadata": {},
   "outputs": [
    {
     "name": "stdout",
     "output_type": "stream",
     "text": [
      "2674 data/sources.txt\r\n"
     ]
    }
   ],
   "source": [
    "!wc -l data/sources.txt"
   ]
  },
  {
   "cell_type": "code",
   "execution_count": null,
   "metadata": {},
   "outputs": [],
   "source": []
  }
 ],
 "metadata": {
  "kernelspec": {
   "display_name": "Python 3",
   "language": "python",
   "name": "python3"
  },
  "language_info": {
   "codemirror_mode": {
    "name": "ipython",
    "version": 3
   },
   "file_extension": ".py",
   "mimetype": "text/x-python",
   "name": "python",
   "nbconvert_exporter": "python",
   "pygments_lexer": "ipython3",
   "version": "3.7.3"
  }
 },
 "nbformat": 4,
 "nbformat_minor": 4
}
