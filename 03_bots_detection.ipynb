{
 "cells": [
  {
   "cell_type": "code",
   "execution_count": 20,
   "metadata": {},
   "outputs": [],
   "source": [
    "import pandas as pd\n",
    "import numpy as np\n",
    "import matplotlib.pyplot as plt\n",
    "from collections import Counter"
   ]
  },
  {
   "cell_type": "code",
   "execution_count": 3,
   "metadata": {},
   "outputs": [
    {
     "name": "stdout",
     "output_type": "stream",
     "text": [
      "1082540114973245440,3139\r\n",
      "1238569011430019073,1486\r\n",
      "1245483551749005312,1303\r\n",
      "1197539488953700354,1026\r\n",
      "1247711005402116101,849\r\n",
      "1016915990737838080,636\r\n",
      "1232615338350645248,582\r\n",
      "1244155897749876736,528\r\n",
      "1129087959339327488,522\r\n",
      "426988129,520\r\n"
     ]
    }
   ],
   "source": [
    "#!ls data/\n",
    "!head data/max_tweets_user_day_lang.csv"
   ]
  },
  {
   "cell_type": "code",
   "execution_count": 7,
   "metadata": {},
   "outputs": [],
   "source": [
    "tweetsDay = pd.read_csv('data/max_tweets_user_day_lang.csv')"
   ]
  },
  {
   "cell_type": "code",
   "execution_count": 8,
   "metadata": {},
   "outputs": [
    {
     "data": {
      "text/html": [
       "<div>\n",
       "<style scoped>\n",
       "    .dataframe tbody tr th:only-of-type {\n",
       "        vertical-align: middle;\n",
       "    }\n",
       "\n",
       "    .dataframe tbody tr th {\n",
       "        vertical-align: top;\n",
       "    }\n",
       "\n",
       "    .dataframe thead th {\n",
       "        text-align: right;\n",
       "    }\n",
       "</style>\n",
       "<table border=\"1\" class=\"dataframe\">\n",
       "  <thead>\n",
       "    <tr style=\"text-align: right;\">\n",
       "      <th></th>\n",
       "      <th>user</th>\n",
       "      <th>tweets</th>\n",
       "    </tr>\n",
       "  </thead>\n",
       "  <tbody>\n",
       "    <tr>\n",
       "      <th>0</th>\n",
       "      <td>1082540114973245440</td>\n",
       "      <td>3139</td>\n",
       "    </tr>\n",
       "    <tr>\n",
       "      <th>1</th>\n",
       "      <td>1238569011430019073</td>\n",
       "      <td>1486</td>\n",
       "    </tr>\n",
       "    <tr>\n",
       "      <th>2</th>\n",
       "      <td>1245483551749005312</td>\n",
       "      <td>1303</td>\n",
       "    </tr>\n",
       "    <tr>\n",
       "      <th>3</th>\n",
       "      <td>1197539488953700354</td>\n",
       "      <td>1026</td>\n",
       "    </tr>\n",
       "    <tr>\n",
       "      <th>4</th>\n",
       "      <td>1247711005402116101</td>\n",
       "      <td>849</td>\n",
       "    </tr>\n",
       "    <tr>\n",
       "      <th>...</th>\n",
       "      <td>...</td>\n",
       "      <td>...</td>\n",
       "    </tr>\n",
       "    <tr>\n",
       "      <th>4226929</th>\n",
       "      <td>1248588013212446720</td>\n",
       "      <td>1</td>\n",
       "    </tr>\n",
       "    <tr>\n",
       "      <th>4226930</th>\n",
       "      <td>1248589238184095744</td>\n",
       "      <td>1</td>\n",
       "    </tr>\n",
       "    <tr>\n",
       "      <th>4226931</th>\n",
       "      <td>1248590633914322944</td>\n",
       "      <td>1</td>\n",
       "    </tr>\n",
       "    <tr>\n",
       "      <th>4226932</th>\n",
       "      <td>1248590768316579840</td>\n",
       "      <td>1</td>\n",
       "    </tr>\n",
       "    <tr>\n",
       "      <th>4226933</th>\n",
       "      <td>1248593225515925505</td>\n",
       "      <td>1</td>\n",
       "    </tr>\n",
       "  </tbody>\n",
       "</table>\n",
       "<p>4226934 rows × 2 columns</p>\n",
       "</div>"
      ],
      "text/plain": [
       "                        user  tweets\n",
       "0        1082540114973245440    3139\n",
       "1        1238569011430019073    1486\n",
       "2        1245483551749005312    1303\n",
       "3        1197539488953700354    1026\n",
       "4        1247711005402116101     849\n",
       "...                      ...     ...\n",
       "4226929  1248588013212446720       1\n",
       "4226930  1248589238184095744       1\n",
       "4226931  1248590633914322944       1\n",
       "4226932  1248590768316579840       1\n",
       "4226933  1248593225515925505       1\n",
       "\n",
       "[4226934 rows x 2 columns]"
      ]
     },
     "execution_count": 8,
     "metadata": {},
     "output_type": "execute_result"
    }
   ],
   "source": [
    "tweetsDay"
   ]
  },
  {
   "cell_type": "code",
   "execution_count": 12,
   "metadata": {},
   "outputs": [],
   "source": [
    "countTweetsDay = Counter(tweetsDay.tweets)"
   ]
  },
  {
   "cell_type": "code",
   "execution_count": 13,
   "metadata": {},
   "outputs": [
    {
     "data": {
      "text/plain": [
       "<bound method Counter.most_common of Counter({1: 2984012, 2: 660193, 3: 237143, 4: 112412, 5: 62220, 6: 39302, 7: 26172, 8: 18304, 9: 13562, 10: 10480, 11: 8112, 12: 6499, 13: 5381, 14: 4336, 15: 3760, 16: 3198, 17: 2783, 18: 2385, 19: 2071, 20: 1902, 21: 1686, 22: 1415, 23: 1341, 24: 1201, 25: 1155, 26: 939, 27: 911, 28: 816, 29: 693, 30: 627, 31: 603, 32: 591, 33: 559, 34: 495, 35: 450, 37: 437, 36: 429, 38: 401, 39: 392, 40: 331, 41: 308, 43: 302, 42: 289, 45: 281, 44: 257, 49: 243, 46: 237, 47: 220, 50: 197, 48: 189, 51: 178, 52: 168, 53: 166, 57: 163, 54: 150, 56: 141, 62: 136, 59: 127, 58: 127, 55: 125, 60: 113, 64: 111, 65: 108, 61: 108, 63: 89, 69: 88, 67: 84, 66: 84, 68: 81, 71: 80, 70: 75, 79: 74, 73: 69, 74: 67, 72: 67, 77: 66, 76: 63, 75: 62, 78: 60, 80: 53, 86: 47, 82: 46, 84: 43, 83: 39, 81: 37, 89: 36, 85: 36, 97: 34, 90: 33, 92: 31, 95: 29, 93: 29, 91: 29, 88: 29, 98: 28, 94: 28, 96: 27, 102: 24, 101: 24, 105: 22, 110: 21, 125: 20, 104: 20, 108: 19, 87: 19, 121: 18, 114: 18, 107: 18, 100: 18, 124: 17, 103: 17, 142: 16, 113: 16, 139: 15, 118: 15, 111: 15, 99: 15, 130: 14, 122: 14, 116: 14, 112: 14, 109: 14, 134: 13, 127: 13, 126: 13, 120: 13, 115: 13, 146: 12, 136: 12, 133: 12, 128: 12, 119: 12, 117: 12, 106: 12, 154: 11, 137: 11, 129: 11, 123: 11, 158: 10, 141: 10, 138: 10, 135: 10, 132: 10, 187: 8, 148: 8, 147: 8, 143: 8, 175: 7, 172: 7, 152: 7, 174: 6, 160: 6, 155: 6, 151: 6, 144: 6, 131: 6, 182: 5, 176: 5, 170: 5, 163: 5, 150: 5, 149: 5, 221: 4, 220: 4, 216: 4, 212: 4, 201: 4, 195: 4, 192: 4, 188: 4, 186: 4, 180: 4, 179: 4, 177: 4, 168: 4, 167: 4, 166: 4, 162: 4, 161: 4, 156: 4, 140: 4, 240: 3, 236: 3, 228: 3, 226: 3, 214: 3, 209: 3, 208: 3, 203: 3, 200: 3, 197: 3, 194: 3, 193: 3, 191: 3, 185: 3, 183: 3, 181: 3, 157: 3, 145: 3, 505: 2, 500: 2, 372: 2, 342: 2, 302: 2, 284: 2, 280: 2, 264: 2, 252: 2, 243: 2, 242: 2, 235: 2, 231: 2, 219: 2, 217: 2, 213: 2, 207: 2, 202: 2, 196: 2, 171: 2, 169: 2, 165: 2, 164: 2, 159: 2, 153: 2, 3139: 1, 1486: 1, 1303: 1, 1026: 1, 849: 1, 636: 1, 582: 1, 528: 1, 522: 1, 520: 1, 504: 1, 491: 1, 412: 1, 408: 1, 403: 1, 391: 1, 384: 1, 380: 1, 379: 1, 365: 1, 360: 1, 359: 1, 348: 1, 347: 1, 338: 1, 331: 1, 320: 1, 319: 1, 318: 1, 316: 1, 314: 1, 311: 1, 291: 1, 289: 1, 286: 1, 283: 1, 282: 1, 277: 1, 268: 1, 267: 1, 266: 1, 260: 1, 259: 1, 257: 1, 256: 1, 251: 1, 250: 1, 249: 1, 248: 1, 246: 1, 238: 1, 237: 1, 234: 1, 233: 1, 232: 1, 225: 1, 223: 1, 218: 1, 210: 1, 206: 1, 205: 1, 204: 1, 199: 1, 198: 1, 190: 1, 189: 1, 184: 1, 178: 1, 173: 1})>"
      ]
     },
     "execution_count": 13,
     "metadata": {},
     "output_type": "execute_result"
    }
   ],
   "source": [
    "countTweetsDay.most_common"
   ]
  },
  {
   "cell_type": "code",
   "execution_count": 21,
   "metadata": {},
   "outputs": [
    {
     "data": {
      "text/plain": [
       "(array([4226896,      32,       2,       1,       2,       0,       0,\n",
       "              0,       0,       1]),\n",
       " array([1.0000e+00, 3.1480e+02, 6.2860e+02, 9.4240e+02, 1.2562e+03,\n",
       "        1.5700e+03, 1.8838e+03, 2.1976e+03, 2.5114e+03, 2.8252e+03,\n",
       "        3.1390e+03]))"
      ]
     },
     "execution_count": 21,
     "metadata": {},
     "output_type": "execute_result"
    }
   ],
   "source": [
    "np.histogram(tweetsDay.tweets)"
   ]
  },
  {
   "cell_type": "code",
   "execution_count": 22,
   "metadata": {},
   "outputs": [
    {
     "data": {
      "text/plain": [
       "(0.0, 2984020.0)"
      ]
     },
     "execution_count": 22,
     "metadata": {},
     "output_type": "execute_result"
    },
    {
     "data": {
      "image/png": "[encoded data removed]",
      "text/plain": [
       "<Figure size 432x288 with 1 Axes>"
      ]
     },
     "metadata": {
      "needs_background": "light"
     },
     "output_type": "display_data"
    }
   ],
   "source": [
    "d = tweetsDay.tweets\n",
    "# An \"interface\" to matplotlib.axes.Axes.hist() method\n",
    "n, bins, patches = plt.hist(x=d, bins='auto', color='#0504aa',\n",
    "                            alpha=0.7, rwidth=0.85)\n",
    "plt.grid(axis='y', alpha=0.75)\n",
    "plt.xlabel('Value')\n",
    "plt.ylabel('Frequency')\n",
    "plt.title('My Very Own Histogram')\n",
    "plt.text(23, 45, r'$\\mu=15, b=3$')\n",
    "maxfreq = n.max()\n",
    "# Set a clean upper y-axis limit.\n",
    "plt.ylim(ymax=np.ceil(maxfreq / 10) * 10 if maxfreq % 10 else maxfreq + 10)\n"
   ]
  },
  {
   "cell_type": "code",
   "execution_count": 23,
   "metadata": {},
   "outputs": [
    {
     "data": {
      "text/plain": [
       "2984012.0"
      ]
     },
     "execution_count": 23,
     "metadata": {},
     "output_type": "execute_result"
    }
   ],
   "source": [
    "n.max()"
   ]
  },
  {
   "cell_type": "code",
   "execution_count": 25,
   "metadata": {},
   "outputs": [
    {
     "data": {
      "image/png": "[encoded data removed]",
      "text/plain": [
       "<Figure size 432x288 with 1 Axes>"
      ]
     },
     "metadata": {
      "needs_background": "light"
     },
     "output_type": "display_data"
    }
   ],
   "source": [
    "# Generate data on commute times.\n",
    "size, scale = 1000, 10\n",
    "commutes = pd.Series(np.random.gamma(scale, size=size) ** 1.5)\n",
    "\n",
    "commutes.plot.hist(grid=True, bins=20, rwidth=0.9,\n",
    "                   color='#607c8e')\n",
    "plt.title('Commute Times for 1,000 Commuters')\n",
    "plt.xlabel('Counts')\n",
    "plt.ylabel('Commute Time')\n",
    "plt.grid(axis='y', alpha=0.75)\n"
   ]
  },
  {
   "cell_type": "code",
   "execution_count": 53,
   "metadata": {},
   "outputs": [
    {
     "data": {
      "image/png": "[encoded data removed]",
      "text/plain": [
       "<Figure size 432x288 with 1 Axes>"
      ]
     },
     "metadata": {
      "needs_background": "light"
     },
     "output_type": "display_data"
    }
   ],
   "source": [
    "tweetsDay[996:].tweets.plot.hist(grid=True, color='#607c8e')\n",
    "#plt.title('Commute Times for 1,000 Commuters')\n",
    "#plt.xlabel('Counts')\n",
    "#plt.ylabel('Commute Time')\n",
    "plt.grid(axis='y', alpha=0.75)"
   ]
  },
  {
   "cell_type": "code",
   "execution_count": 30,
   "metadata": {},
   "outputs": [
    {
     "data": {
      "text/plain": [
       "0      46.486493\n",
       "1      28.877731\n",
       "2      28.929894\n",
       "3      31.003480\n",
       "4      18.212859\n",
       "         ...    \n",
       "995    49.532569\n",
       "996    27.973843\n",
       "997    41.321183\n",
       "998    21.992686\n",
       "999    13.036757\n",
       "Length: 1000, dtype: float64"
      ]
     },
     "execution_count": 30,
     "metadata": {},
     "output_type": "execute_result"
    }
   ],
   "source": [
    "pd.Series(np.random.gamma(scale, size=size) ** 1.5)"
   ]
  },
  {
   "cell_type": "code",
   "execution_count": 31,
   "metadata": {},
   "outputs": [
    {
     "data": {
      "text/plain": [
       "array([21.83245242, 50.48197816, 64.91935845, 10.1162068 , 11.37426599,\n",
       "       63.56881346, 46.71853355, 20.74689793, 30.06208994, 36.45594603,\n",
       "       22.55297893, 27.11901441, 37.46021184, 48.26002967, 13.27924536,\n",
       "       34.89390718, 27.26302127, 49.44381938, 36.1366917 ,  9.80881177,\n",
       "       25.4541175 , 21.69169764, 25.91998802, 38.26608297, 32.46167767,\n",
       "       21.45145089, 34.00204697, 36.65227559, 12.94010827, 23.36806776,\n",
       "       21.27780591, 17.9250366 , 14.80544291, 10.51431562, 84.08513298,\n",
       "       20.01002499, 31.31653669, 14.86934994, 13.23480026, 63.82940299,\n",
       "       13.5364088 , 48.09867476, 43.26558467, 28.4851495 , 19.94981134,\n",
       "       15.77424208, 23.12749973, 22.34683103, 40.22634807, 30.79067649,\n",
       "       45.45054489, 33.0993766 , 21.53144403, 21.88646379, 53.54019065,\n",
       "       22.39076655, 18.58407606, 58.42322803, 40.66828885, 43.18300767,\n",
       "       27.62949232, 43.32713323, 22.4433024 , 49.90534144, 14.1087188 ,\n",
       "       26.18408358, 53.14734455, 49.86022473, 30.2604122 , 84.77327336,\n",
       "       21.96602441, 40.94073721, 14.77641999, 19.24981974, 16.56507394,\n",
       "       17.85753096, 32.82481393, 12.90605309, 53.20092214, 43.44348616,\n",
       "       23.98855168, 18.36928446, 33.13795771, 31.07939579, 26.44706615,\n",
       "       44.94635298, 59.63097686, 57.5748175 , 39.53756903, 28.63417846,\n",
       "       30.16486659, 42.93426648, 36.55465079, 57.642878  , 34.72837625,\n",
       "       45.87771151, 23.63940054, 38.62555792, 29.34361802, 60.92854982,\n",
       "       24.68498123, 52.60311672, 31.26856715, 21.00280509, 24.08636412,\n",
       "       14.49329256, 28.90004564, 14.80316939, 38.59232339, 23.57008694,\n",
       "       31.3876206 , 35.87235404, 38.9021539 , 31.59092803, 56.18283251,\n",
       "       27.296932  , 45.94997362, 31.03600055, 59.45133497, 20.50136988,\n",
       "       33.25405739, 24.24493651, 50.78466303, 14.06448543, 49.53383131,\n",
       "       25.736748  , 23.67995101, 30.6291131 , 19.5337973 , 62.44484134,\n",
       "       19.52467707, 17.93871746, 68.23271053, 20.44090462, 17.87931971,\n",
       "       59.40678914, 53.32108518, 54.49508912, 36.76269815, 29.56046939,\n",
       "       19.31181408, 13.93666804, 18.4423369 , 43.22462934, 24.34054716,\n",
       "       33.65776831, 47.11857678, 30.81914685, 56.13209804, 28.58808772,\n",
       "       15.55745521, 37.61250725, 51.02142492, 39.87699368, 40.23567336,\n",
       "       26.48729468, 26.27822301, 26.85037304, 12.10271107, 33.14151852,\n",
       "       34.01653412, 20.34740324, 30.04902676, 41.44745031, 18.64311192,\n",
       "       36.84055124, 12.93019949, 17.49312824, 24.33664524, 39.38524673,\n",
       "       38.55129462, 39.25599292, 16.89705279, 35.04261538, 48.22927119,\n",
       "       27.88116747, 37.85350559, 31.84670964, 58.31282784, 33.59594341,\n",
       "       33.30532629, 19.51881355, 17.04339103, 12.32516925, 61.7675995 ,\n",
       "       19.36585773, 34.35595413, 39.62860305, 62.68301702, 25.40492698,\n",
       "       58.29703107, 58.57721316, 36.13769769, 38.40311315, 33.88420192,\n",
       "       26.07484772, 35.21820652, 26.22076779, 19.75995905, 36.84717517,\n",
       "       43.22329482, 28.87611738, 12.4010026 , 42.92005819, 25.13593554,\n",
       "       49.27714169, 18.22552399, 22.95438086, 18.16604512, 30.62357797,\n",
       "       28.90633267, 36.52691912, 27.69441019, 64.19628664, 32.52540348,\n",
       "       43.2977512 , 39.02530982, 16.56563609, 30.04670461, 11.04837815,\n",
       "       41.25356146, 21.26214573, 15.063704  , 35.67048867, 44.22102638,\n",
       "       29.91715711, 49.08887838, 33.45822023, 12.58310841, 23.53640392,\n",
       "       73.4043374 , 39.93099222, 25.02734975, 27.21636861,  9.78578688,\n",
       "       18.57388928, 18.82947903, 22.0837106 , 39.31897133, 64.93039589,\n",
       "       33.51138964, 46.68610854, 22.20228419, 30.15148913, 22.73473719,\n",
       "       36.63700445, 22.99427009, 14.41086304, 47.29164967, 34.73771961,\n",
       "       24.0042326 , 40.1854663 , 30.08126571, 28.65885033, 27.75940074,\n",
       "       37.5563914 ,  5.18749029, 23.65765206, 53.22493158, 35.11184363,\n",
       "       21.20968852, 56.66900186, 37.49435927, 19.47624795, 12.26213756,\n",
       "       28.63040821, 21.83887442, 37.25953285, 33.04852994, 17.81061178,\n",
       "       20.73530826, 36.40568498, 36.17025096, 50.35555875, 27.09234869,\n",
       "       32.736022  , 15.97772201, 24.77438269, 41.15897594, 68.40023196,\n",
       "       44.33058579, 32.28543815, 33.55983617, 59.57566538, 30.81646854,\n",
       "       45.19590223, 24.72275857, 45.86859856, 36.16801628, 44.75936563,\n",
       "       16.77235758, 29.41078687, 22.46091759, 31.96713975, 16.29987441,\n",
       "       17.27623458, 30.68533121, 26.63682771, 32.58682117, 36.43158717,\n",
       "       38.05000355, 49.05896192, 43.09773333, 37.69057819, 23.99156922,\n",
       "       14.39368124, 12.608677  , 29.77080084, 12.69078666, 30.25233191,\n",
       "       28.86144172, 28.40243817, 24.54241135, 42.69737796, 14.76457118,\n",
       "       39.18475872, 40.01369069, 30.75035107, 44.43356139, 17.53662243,\n",
       "       41.03285491, 54.51193314, 22.33273251, 91.91515208, 35.96220832,\n",
       "       16.24827674, 17.59874259, 41.03179119, 21.35137279, 30.918019  ,\n",
       "       27.46289545, 26.14681472, 17.92713839, 20.68178841, 55.77338187,\n",
       "       29.85126055, 25.1460741 , 26.25922361, 34.5025983 , 36.28391159,\n",
       "       27.17873339, 26.93309244, 37.10720463, 14.805259  , 89.47945912,\n",
       "       28.94638568, 45.79503656, 51.23136122, 28.98092351, 27.95194005,\n",
       "       37.95952335, 28.43050005, 46.46201621, 38.46314771, 50.21878534,\n",
       "       20.79625831, 24.88578822, 30.27398692, 22.43987908, 23.9203252 ,\n",
       "       35.70797843, 20.95814081, 19.33340621, 16.24343491, 37.18292606,\n",
       "       33.38307416, 36.19780979, 27.26656602,  8.35234349, 15.25251923,\n",
       "       31.66911596, 24.99950598, 37.8032177 , 26.67013788, 14.43865358,\n",
       "       38.09734316, 41.44817642, 35.87069585, 18.89073234, 11.7863226 ,\n",
       "       17.07616207, 39.79941142, 99.16760554, 60.34796455, 18.3744656 ,\n",
       "       20.68672054, 22.46075929, 21.77847566, 35.76240904, 25.1088513 ,\n",
       "       23.52412992, 88.56538088, 26.43772021, 44.20854766, 37.20532486,\n",
       "       11.84941344,  8.63782647, 35.57356198, 17.51085971, 71.54770369,\n",
       "       38.47390442, 31.44433653, 20.75328061, 34.12125814, 29.73851344,\n",
       "       38.95038253, 37.30869067, 32.44988784, 22.76230523, 24.55813779,\n",
       "       28.26261836, 28.93777342, 43.4718112 , 50.37125098, 27.07082285,\n",
       "       15.19784214, 36.38783594, 25.38720559, 56.89632201, 28.23911698,\n",
       "       41.99544176, 61.32023409, 38.91136833, 20.42705155, 27.06844144,\n",
       "       34.21764995, 24.77340793, 34.77769307, 41.71397748, 30.77254335,\n",
       "       40.70272986, 26.37199522, 32.98761034, 26.14517868, 19.69912835,\n",
       "       39.35831418, 35.72621382, 11.50537534, 71.06253734, 26.77768648,\n",
       "       47.46077771, 20.08983197, 10.0618908 , 18.94985009, 19.57820773,\n",
       "       20.7126976 , 22.78808667, 18.545825  , 54.3439987 , 87.3785836 ,\n",
       "       42.09650067, 27.5242819 , 77.36135729, 29.77323311, 13.16853026,\n",
       "       35.53244243, 43.27970306, 37.25789617, 90.64717541, 19.95519368,\n",
       "       53.91762101, 38.98848409, 42.69608825, 43.99688876, 27.94395519,\n",
       "       55.35189366, 19.74854598, 15.08440559, 16.98058782, 40.16922862,\n",
       "       19.90649742, 15.21827776, 32.43430107, 26.06875704, 22.04513429,\n",
       "       34.21150481, 30.2843787 , 36.36464853, 36.72051728, 22.44330911,\n",
       "       11.55846438, 19.74670245, 40.51869921, 21.61241845, 35.96040262,\n",
       "       53.42571712, 36.37653394, 43.43860741, 21.57346418, 45.70743063,\n",
       "       33.7626993 , 39.42590519, 30.65798289,  9.48302822, 36.5493002 ,\n",
       "       28.70997623, 42.43860866, 12.63796821, 23.81951783, 30.73181878,\n",
       "       11.64763251, 25.12961853, 20.73552029, 32.96742248, 20.43890472,\n",
       "       46.0581735 , 24.29491461, 25.98820587, 11.74185052, 35.66428418,\n",
       "       28.4950711 , 59.78335985, 30.428809  , 55.11618237, 21.51376072,\n",
       "       32.60923707, 85.23738175, 35.54281956, 31.64259051, 31.73124096,\n",
       "       70.46009957, 44.7376191 , 18.08858503, 55.20711396, 37.99441783,\n",
       "       27.39437389, 36.1887466 , 32.64598965, 19.94954555, 34.27000937,\n",
       "       35.56848024, 24.14399014, 15.97519325,  9.93485014, 19.02603539,\n",
       "       95.95939596, 24.47472333, 16.07683125, 27.42952839, 36.25380447,\n",
       "       58.10784246, 24.49920854, 26.7506943 , 38.78533474, 43.3277814 ,\n",
       "       33.9346224 , 30.88732168, 44.10164491, 38.70486453, 29.78485727,\n",
       "       19.53274028, 47.6031928 , 66.60864192, 22.74267769, 18.28323079,\n",
       "       12.30717734, 39.031674  , 31.06062455, 21.58910211, 16.6426627 ,\n",
       "       31.05234034, 14.28107099, 41.16564781, 21.25905038, 16.49410496,\n",
       "       34.56225671, 19.91567677, 32.36105374, 35.09784719, 12.93225266,\n",
       "       30.62754172, 39.38980153, 47.69385922, 21.24949043, 49.35389119,\n",
       "       21.73190095, 30.20526661, 21.18894226, 19.38359297, 33.65478058,\n",
       "       32.54735573, 33.37924735, 24.91231826, 21.08263095, 14.89836303,\n",
       "       31.88705191, 10.71721771, 52.28310456, 48.4695886 , 67.40346913,\n",
       "       25.79788969, 20.89005136, 61.47188108, 45.66673476, 18.05225864,\n",
       "       21.58936454, 45.06304199, 10.73188108, 52.57348617, 24.89067882,\n",
       "       28.69027062, 37.40404271, 16.74494379,  9.61115234, 33.73226621,\n",
       "       22.9184247 , 20.93518601, 66.43276503, 43.92205998, 34.92046051,\n",
       "       27.8625125 , 32.01673658, 23.5787373 , 25.04388682, 23.12818932,\n",
       "       23.35059295, 20.40262675, 37.8199696 , 13.54339132, 25.57110055,\n",
       "       22.96343662, 23.33278521, 10.14682086, 18.37966421, 10.37015535,\n",
       "       34.50256197, 87.99329299, 22.69857839, 31.36316755, 60.78003508,\n",
       "       60.06264618, 28.11065299, 19.67961327, 49.14737126, 39.95545686,\n",
       "       22.63069105, 42.37131612, 38.59080529, 28.3411935 , 46.51705581,\n",
       "       27.68976869, 58.76630529, 30.6357882 , 20.4354858 , 17.36037553,\n",
       "       31.47583558, 70.36542668, 26.98405062, 39.69229003, 36.09826471,\n",
       "       43.70678788, 16.06200344, 31.39947845, 33.89263115, 39.36706944,\n",
       "       47.37404182, 24.52441855, 46.80370124, 51.14489041, 26.20923842,\n",
       "       53.53577999, 23.85610591, 37.10963576, 23.88957113, 27.20607581,\n",
       "       16.27126534, 14.3109487 , 12.76209751, 16.45456873, 83.52007269,\n",
       "       45.38852066, 34.10056461, 50.24627114, 21.22047759, 36.06535956,\n",
       "       42.60743027, 23.76410595, 54.60565133, 12.97131463, 35.24987102,\n",
       "       19.34125578, 34.25728227, 20.10077853, 42.3439706 , 18.17652642,\n",
       "       35.64536789, 37.0068805 , 21.0793641 , 12.50788998, 51.16642805,\n",
       "       18.50484212, 29.60131914, 29.44589659, 44.4693022 , 16.42341151,\n",
       "       37.84923025, 34.40624449, 20.11916748, 46.1563429 , 27.02415887,\n",
       "       21.53031992, 28.20473846, 46.71642935, 39.44987866, 38.43832539,\n",
       "       20.24557698, 41.97324883, 10.38618449,  9.35960141, 28.42485403,\n",
       "       18.19251981, 59.29853749, 51.10117931,  6.53675887, 20.63995759,\n",
       "       29.01844114, 20.64253213, 37.25780405, 37.13414399, 10.58690584,\n",
       "        6.01608717, 15.3611728 , 20.30636198, 23.67935155, 26.1076244 ,\n",
       "       37.5324395 , 19.21287696, 27.54863484, 36.47055783, 18.2558465 ,\n",
       "       13.02975005, 38.29234726, 40.22192917, 29.524436  , 26.44008959,\n",
       "       28.95601262, 37.91236359, 34.62855838, 24.17891689, 34.30149091,\n",
       "       39.33199898, 69.64235726,  2.86940794, 33.4317987 , 26.99853722,\n",
       "       25.38452765, 44.45709688, 19.82182869, 20.72437094, 19.26611375,\n",
       "       28.14046046, 12.5103454 , 36.13455807, 45.04687721, 15.55586284,\n",
       "       27.73209118, 24.3038259 , 27.19785366, 13.78916346, 18.43797278,\n",
       "       23.80511256, 16.26286789, 20.96234348, 24.30608556, 22.34867838,\n",
       "       35.17400055, 12.89684041, 55.13885515, 12.29567566, 25.5102823 ,\n",
       "       21.22068549, 30.55286323, 57.80235767, 52.63400041, 37.95822104,\n",
       "       31.13972521, 65.50537412, 12.48554387, 34.34322354, 53.3281809 ,\n",
       "       35.00314879, 19.59287442, 22.74475056, 22.13783728, 28.14364824,\n",
       "       38.64107011, 20.37587766, 69.11561972, 29.77054698, 23.31076159,\n",
       "       13.94107515, 23.02231927, 16.18193371, 28.97665362, 14.20000309,\n",
       "       36.78524428, 27.4704109 , 28.46863583, 27.88502867, 31.18191222,\n",
       "       43.70483962, 40.58068976, 26.8424222 , 17.63008936, 24.16368127,\n",
       "       21.51058578, 28.15503802, 53.34800551, 26.05046128, 23.83133157,\n",
       "       19.85548572, 47.94403331, 23.93676953, 14.32822981, 29.89259739,\n",
       "       93.64652192, 38.17814487, 43.34243414, 24.47208072, 30.8631583 ,\n",
       "       58.93697269, 29.1855027 , 41.61570723, 75.40852354, 29.6878998 ,\n",
       "       23.28310232, 36.63231284, 49.53680263, 37.30843312, 31.00704093,\n",
       "       40.23608781, 24.23817458, 48.2699374 , 34.79567748, 23.17743192,\n",
       "       66.26528006, 29.25368275, 73.63623055, 29.64328899, 31.37148911,\n",
       "       33.8892048 , 61.2653699 , 12.95160121, 33.49479279, 20.69250876,\n",
       "       36.06137933, 41.76405146, 58.60652448, 29.9102714 , 37.05462927,\n",
       "       31.49428477, 24.52208357, 37.06034597, 28.84727094, 27.88557629,\n",
       "       62.57961596, 33.29113474, 39.25351862, 29.58041193, 39.79268111,\n",
       "       47.64866388, 28.28199769, 19.39649833, 73.17093506, 25.95576998,\n",
       "       18.85868563, 12.62539779, 44.73921232, 41.11554384, 73.09642663,\n",
       "       44.93712064, 38.06323175, 28.10964216, 23.11974546, 48.3586269 ,\n",
       "       12.599062  , 23.3347987 , 15.35299615, 31.83775745, 37.44696361,\n",
       "       12.57186917, 44.91672834, 42.47156325, 53.82977036, 52.25971791,\n",
       "       23.42005634, 17.68805843, 28.74568545, 29.74082212, 12.90070326,\n",
       "       46.88404046, 35.45412598, 20.68640439, 36.60734654, 32.49631011,\n",
       "       30.79561878, 22.88267631, 40.65873374, 46.428288  , 37.92071737,\n",
       "       25.73892806, 34.46489168, 63.69972429, 62.46247122, 17.61484822,\n",
       "       28.2002927 , 55.42462106, 38.77255318, 32.21023978, 40.53725282,\n",
       "       37.38335993, 16.16372168, 38.62456497, 35.80383261, 55.8273177 ,\n",
       "       29.74329857, 16.63085469, 13.31836456, 93.43040812, 61.26322133,\n",
       "       33.31618128, 19.09312259, 24.83256095, 23.73732731, 18.9244182 ,\n",
       "       19.2247151 , 10.68139486, 10.19645979, 39.87191132, 11.3074308 ,\n",
       "       36.69279886, 15.44550719, 55.85942904, 53.42542492, 45.90809234,\n",
       "       30.39946974, 16.35325894, 54.33200658, 29.67683069, 26.4388771 ,\n",
       "       20.61657908, 74.87933373, 12.50929657, 61.32289299, 48.80137756,\n",
       "       46.23699763, 28.00217368, 48.01311374, 35.89988681, 52.96139654,\n",
       "       34.62818976, 24.11832079, 73.97277516, 13.18120454, 22.49330889,\n",
       "       39.75997314, 30.85488045, 21.09859561, 19.69865406, 58.67309833,\n",
       "       46.12097584, 27.50696063, 40.29253245, 56.60721452, 33.56824126,\n",
       "       18.93411621, 16.78568293, 55.11848522, 34.48430763, 46.97114836,\n",
       "       30.42001576, 37.57420496, 52.08407405, 38.08439311, 45.89089554,\n",
       "       27.85259544, 43.68293403, 31.13826115, 21.08706713, 19.30916808,\n",
       "       45.14583083, 33.69000711, 30.51390126, 46.91972349, 14.00538085,\n",
       "       37.74906903, 43.14410019, 24.17855632, 20.5067965 , 17.34528944,\n",
       "       21.22417701, 29.9479994 , 13.64754246, 15.71612422, 19.60013378,\n",
       "       15.36633616, 10.85991214, 32.2473363 , 17.58701629, 29.95310885])"
      ]
     },
     "execution_count": 31,
     "metadata": {},
     "output_type": "execute_result"
    }
   ],
   "source": [
    "np.random.gamma(scale, size=size) ** 1.5"
   ]
  },
  {
   "cell_type": "code",
   "execution_count": 35,
   "metadata": {},
   "outputs": [
    {
     "data": {
      "text/plain": [
       "0          3139\n",
       "1          1486\n",
       "2          1303\n",
       "3          1026\n",
       "4           849\n",
       "           ... \n",
       "4226929       1\n",
       "4226930       1\n",
       "4226931       1\n",
       "4226932       1\n",
       "4226933       1\n",
       "Name: tweets, Length: 4226934, dtype: int64"
      ]
     },
     "execution_count": 35,
     "metadata": {},
     "output_type": "execute_result"
    }
   ],
   "source": [
    "tweetsDay.tweets"
   ]
  },
  {
   "cell_type": "code",
   "execution_count": 36,
   "metadata": {},
   "outputs": [
    {
     "data": {
      "text/plain": [
       "98         221\n",
       "99         220\n",
       "100        220\n",
       "101        220\n",
       "102        220\n",
       "          ... \n",
       "4226929      1\n",
       "4226930      1\n",
       "4226931      1\n",
       "4226932      1\n",
       "4226933      1\n",
       "Name: tweets, Length: 4226836, dtype: int64"
      ]
     },
     "execution_count": 36,
     "metadata": {},
     "output_type": "execute_result"
    }
   ],
   "source": [
    "tweetsDay.tweets[98:]"
   ]
  },
  {
   "cell_type": "code",
   "execution_count": 50,
   "metadata": {},
   "outputs": [
    {
     "data": {
      "text/plain": [
       "996        100\n",
       "997        100\n",
       "998        100\n",
       "999        100\n",
       "1000       100\n",
       "          ... \n",
       "4226929      1\n",
       "4226930      1\n",
       "4226931      1\n",
       "4226932      1\n",
       "4226933      1\n",
       "Name: tweets, Length: 4225938, dtype: int64"
      ]
     },
     "execution_count": 50,
     "metadata": {},
     "output_type": "execute_result"
    }
   ],
   "source": [
    "tweetsDay[996:].tweets"
   ]
  },
  {
   "cell_type": "code",
   "execution_count": null,
   "metadata": {},
   "outputs": [],
   "source": []
  }
 ],
 "metadata": {
  "kernelspec": {
   "display_name": "Python 3",
   "language": "python",
   "name": "python3"
  },
  "language_info": {
   "codemirror_mode": {
    "name": "ipython",
    "version": 3
   },
   "file_extension": ".py",
   "mimetype": "text/x-python",
   "name": "python",
   "nbconvert_exporter": "python",
   "pygments_lexer": "ipython3",
   "version": "3.7.3"
  }
 },
 "nbformat": 4,
 "nbformat_minor": 4
}
